{
 "cells": [
  {
   "cell_type": "code",
   "execution_count": 1,
   "metadata": {},
   "outputs": [
    {
     "name": "stderr",
     "output_type": "stream",
     "text": [
      "/home/savath/.virtualenvs/wazir/lib/python3.5/site-packages/h5py/__init__.py:36: FutureWarning: Conversion of the second argument of issubdtype from `float` to `np.floating` is deprecated. In future, it will be treated as `np.float64 == np.dtype(float).type`.\n",
      "  from ._conv import register_converters as _register_converters\n",
      "Using TensorFlow backend.\n"
     ]
    }
   ],
   "source": [
    "from keras.layers import Conv2D,Input,Dense,Convolution2D,Activation,MaxPooling2D,Flatten,merge\n",
    "from keras.layers.merge import add\n",
    "from keras.models import Model, load_model\n",
    "from IPython.display import SVG\n",
    "from keras.utils.vis_utils import model_to_dot\n",
    "from keras.utils import plot_model\n",
    "from keras.layers.convolutional import Deconv2D as Conv2DTranspose"
   ]
  },
  {
   "cell_type": "code",
   "execution_count": 2,
   "metadata": {},
   "outputs": [
    {
     "name": "stderr",
     "output_type": "stream",
     "text": [
      "/home/savath/.virtualenvs/wazir/lib/python3.5/site-packages/ipykernel_launcher.py:16: UserWarning: The `merge` function is deprecated and will be removed after 08/2017. Use instead layers from `keras.layers.merge`, e.g. `add`, `concatenate`, etc.\n",
      "  app.launch_new_instance()\n",
      "/home/savath/.virtualenvs/wazir/lib/python3.5/site-packages/keras/legacy/layers.py:465: UserWarning: The `Merge` layer is deprecated and will be removed after 08/2017. Use instead layers from `keras.layers.merge`, e.g. `add`, `concatenate`, etc.\n",
      "  name=name)\n"
     ]
    }
   ],
   "source": [
    "img_shape = (41, 41, 1)\n",
    "input_img = Input(shape=(img_shape))\n",
    "#01 LAYER\n",
    "model1 = Conv2D(64, (3, 3), padding='same', name='conv1')(input_img)\n",
    "model1 = Activation('relu', name='act1')(model1)\n",
    "\n",
    "#02 LAYER\n",
    "model2 = Conv2D(1, (3, 3), padding='same', name='conv2')(model1)\n",
    "model2 = Activation('relu', name='act2')(model2)\n",
    "#res_img1 = model2\n",
    "#03 LAYER\n",
    "#model3 = Conv2D(1, (3, 3), padding='same', name='conv3')(model2)\n",
    "#model3 = Activation('relu', name='act3')(model3)\n",
    "\n",
    "res_img = model2\n",
    "output_img = merge([res_img, input_img])\n",
    "model = Model(input_img, output_img)\n",
    "\n",
    "#model = Model(input_img, output_img1)"
   ]
  },
  {
   "cell_type": "code",
   "execution_count": 3,
   "metadata": {},
   "outputs": [
    {
     "data": {
      "image/svg+xml": [
       "<svg height=\"470pt\" viewBox=\"0.00 0.00 424.00 470.00\" width=\"424pt\" xmlns=\"http://www.w3.org/2000/svg\" xmlns:xlink=\"http://www.w3.org/1999/xlink\">\n",
       "<g class=\"graph\" id=\"graph0\" transform=\"scale(1 1) rotate(0) translate(4 466)\">\n",
       "<title>G</title>\n",
       "<polygon fill=\"white\" points=\"-4,4 -4,-466 420,-466 420,4 -4,4\" stroke=\"none\"/>\n",
       "<!-- 139990125519648 -->\n",
       "<g class=\"node\" id=\"node1\"><title>139990125519648</title>\n",
       "<polygon fill=\"none\" points=\"76,-415.5 76,-461.5 367,-461.5 367,-415.5 76,-415.5\" stroke=\"black\"/>\n",
       "<text font-family=\"Times,serif\" font-size=\"14.00\" text-anchor=\"middle\" x=\"138.5\" y=\"-434.8\">input_1: InputLayer</text>\n",
       "<polyline fill=\"none\" points=\"201,-415.5 201,-461.5 \" stroke=\"black\"/>\n",
       "<text font-family=\"Times,serif\" font-size=\"14.00\" text-anchor=\"middle\" x=\"228.5\" y=\"-446.3\">input:</text>\n",
       "<polyline fill=\"none\" points=\"201,-438.5 256,-438.5 \" stroke=\"black\"/>\n",
       "<text font-family=\"Times,serif\" font-size=\"14.00\" text-anchor=\"middle\" x=\"228.5\" y=\"-423.3\">output:</text>\n",
       "<polyline fill=\"none\" points=\"256,-415.5 256,-461.5 \" stroke=\"black\"/>\n",
       "<text font-family=\"Times,serif\" font-size=\"14.00\" text-anchor=\"middle\" x=\"311.5\" y=\"-446.3\">(None, 41, 41, 1)</text>\n",
       "<polyline fill=\"none\" points=\"256,-438.5 367,-438.5 \" stroke=\"black\"/>\n",
       "<text font-family=\"Times,serif\" font-size=\"14.00\" text-anchor=\"middle\" x=\"311.5\" y=\"-423.3\">(None, 41, 41, 1)</text>\n",
       "</g>\n",
       "<!-- 139990125519760 -->\n",
       "<g class=\"node\" id=\"node2\"><title>139990125519760</title>\n",
       "<polygon fill=\"none\" points=\"0.5,-332.5 0.5,-378.5 276.5,-378.5 276.5,-332.5 0.5,-332.5\" stroke=\"black\"/>\n",
       "<text font-family=\"Times,serif\" font-size=\"14.00\" text-anchor=\"middle\" x=\"52\" y=\"-351.8\">conv1: Conv2D</text>\n",
       "<polyline fill=\"none\" points=\"103.5,-332.5 103.5,-378.5 \" stroke=\"black\"/>\n",
       "<text font-family=\"Times,serif\" font-size=\"14.00\" text-anchor=\"middle\" x=\"131\" y=\"-363.3\">input:</text>\n",
       "<polyline fill=\"none\" points=\"103.5,-355.5 158.5,-355.5 \" stroke=\"black\"/>\n",
       "<text font-family=\"Times,serif\" font-size=\"14.00\" text-anchor=\"middle\" x=\"131\" y=\"-340.3\">output:</text>\n",
       "<polyline fill=\"none\" points=\"158.5,-332.5 158.5,-378.5 \" stroke=\"black\"/>\n",
       "<text font-family=\"Times,serif\" font-size=\"14.00\" text-anchor=\"middle\" x=\"217.5\" y=\"-363.3\">(None, 41, 41, 1)</text>\n",
       "<polyline fill=\"none\" points=\"158.5,-355.5 276.5,-355.5 \" stroke=\"black\"/>\n",
       "<text font-family=\"Times,serif\" font-size=\"14.00\" text-anchor=\"middle\" x=\"217.5\" y=\"-340.3\">(None, 41, 41, 64)</text>\n",
       "</g>\n",
       "<!-- 139990125519648&#45;&gt;139990125519760 -->\n",
       "<g class=\"edge\" id=\"edge1\"><title>139990125519648-&gt;139990125519760</title>\n",
       "<path d=\"M198.82,-415.366C189.487,-406.259 178.544,-395.579 168.559,-385.835\" fill=\"none\" stroke=\"black\"/>\n",
       "<polygon fill=\"black\" points=\"170.754,-383.086 161.153,-378.607 165.865,-388.096 170.754,-383.086\" stroke=\"black\"/>\n",
       "</g>\n",
       "<!-- 139990125204480 -->\n",
       "<g class=\"node\" id=\"node6\"><title>139990125204480</title>\n",
       "<polygon fill=\"none\" points=\"31,-0.5 31,-46.5 416,-46.5 416,-0.5 31,-0.5\" stroke=\"black\"/>\n",
       "<text font-family=\"Times,serif\" font-size=\"14.00\" text-anchor=\"middle\" x=\"85\" y=\"-19.8\">merge_1: Merge</text>\n",
       "<polyline fill=\"none\" points=\"139,-0.5 139,-46.5 \" stroke=\"black\"/>\n",
       "<text font-family=\"Times,serif\" font-size=\"14.00\" text-anchor=\"middle\" x=\"166.5\" y=\"-31.3\">input:</text>\n",
       "<polyline fill=\"none\" points=\"139,-23.5 194,-23.5 \" stroke=\"black\"/>\n",
       "<text font-family=\"Times,serif\" font-size=\"14.00\" text-anchor=\"middle\" x=\"166.5\" y=\"-8.3\">output:</text>\n",
       "<polyline fill=\"none\" points=\"194,-0.5 194,-46.5 \" stroke=\"black\"/>\n",
       "<text font-family=\"Times,serif\" font-size=\"14.00\" text-anchor=\"middle\" x=\"305\" y=\"-31.3\">[(None, 41, 41, 1), (None, 41, 41, 1)]</text>\n",
       "<polyline fill=\"none\" points=\"194,-23.5 416,-23.5 \" stroke=\"black\"/>\n",
       "<text font-family=\"Times,serif\" font-size=\"14.00\" text-anchor=\"middle\" x=\"305\" y=\"-8.3\">(None, 41, 41, 1)</text>\n",
       "</g>\n",
       "<!-- 139990125519648&#45;&gt;139990125204480 -->\n",
       "<g class=\"edge\" id=\"edge6\"><title>139990125519648-&gt;139990125204480</title>\n",
       "<path d=\"M253.33,-415.412C265.186,-405.594 277.654,-393.067 285.5,-379 308.748,-337.321 305.5,-321.224 305.5,-273.5 305.5,-273.5 305.5,-273.5 305.5,-188.5 305.5,-140.776 308.417,-124.861 285.5,-83 279.559,-72.1487 270.887,-62.1464 261.902,-53.5958\" fill=\"none\" stroke=\"black\"/>\n",
       "<polygon fill=\"black\" points=\"264.102,-50.8673 254.333,-46.7678 259.413,-56.0649 264.102,-50.8673\" stroke=\"black\"/>\n",
       "</g>\n",
       "<!-- 139990125520488 -->\n",
       "<g class=\"node\" id=\"node3\"><title>139990125520488</title>\n",
       "<polygon fill=\"none\" points=\"0,-249.5 0,-295.5 277,-295.5 277,-249.5 0,-249.5\" stroke=\"black\"/>\n",
       "<text font-family=\"Times,serif\" font-size=\"14.00\" text-anchor=\"middle\" x=\"52\" y=\"-268.8\">act1: Activation</text>\n",
       "<polyline fill=\"none\" points=\"104,-249.5 104,-295.5 \" stroke=\"black\"/>\n",
       "<text font-family=\"Times,serif\" font-size=\"14.00\" text-anchor=\"middle\" x=\"131.5\" y=\"-280.3\">input:</text>\n",
       "<polyline fill=\"none\" points=\"104,-272.5 159,-272.5 \" stroke=\"black\"/>\n",
       "<text font-family=\"Times,serif\" font-size=\"14.00\" text-anchor=\"middle\" x=\"131.5\" y=\"-257.3\">output:</text>\n",
       "<polyline fill=\"none\" points=\"159,-249.5 159,-295.5 \" stroke=\"black\"/>\n",
       "<text font-family=\"Times,serif\" font-size=\"14.00\" text-anchor=\"middle\" x=\"218\" y=\"-280.3\">(None, 41, 41, 64)</text>\n",
       "<polyline fill=\"none\" points=\"159,-272.5 277,-272.5 \" stroke=\"black\"/>\n",
       "<text font-family=\"Times,serif\" font-size=\"14.00\" text-anchor=\"middle\" x=\"218\" y=\"-257.3\">(None, 41, 41, 64)</text>\n",
       "</g>\n",
       "<!-- 139990125519760&#45;&gt;139990125520488 -->\n",
       "<g class=\"edge\" id=\"edge2\"><title>139990125519760-&gt;139990125520488</title>\n",
       "<path d=\"M138.5,-332.366C138.5,-324.152 138.5,-314.658 138.5,-305.725\" fill=\"none\" stroke=\"black\"/>\n",
       "<polygon fill=\"black\" points=\"142,-305.607 138.5,-295.607 135,-305.607 142,-305.607\" stroke=\"black\"/>\n",
       "</g>\n",
       "<!-- 139990125520432 -->\n",
       "<g class=\"node\" id=\"node4\"><title>139990125520432</title>\n",
       "<polygon fill=\"none\" points=\"1.5,-166.5 1.5,-212.5 277.5,-212.5 277.5,-166.5 1.5,-166.5\" stroke=\"black\"/>\n",
       "<text font-family=\"Times,serif\" font-size=\"14.00\" text-anchor=\"middle\" x=\"53\" y=\"-185.8\">conv2: Conv2D</text>\n",
       "<polyline fill=\"none\" points=\"104.5,-166.5 104.5,-212.5 \" stroke=\"black\"/>\n",
       "<text font-family=\"Times,serif\" font-size=\"14.00\" text-anchor=\"middle\" x=\"132\" y=\"-197.3\">input:</text>\n",
       "<polyline fill=\"none\" points=\"104.5,-189.5 159.5,-189.5 \" stroke=\"black\"/>\n",
       "<text font-family=\"Times,serif\" font-size=\"14.00\" text-anchor=\"middle\" x=\"132\" y=\"-174.3\">output:</text>\n",
       "<polyline fill=\"none\" points=\"159.5,-166.5 159.5,-212.5 \" stroke=\"black\"/>\n",
       "<text font-family=\"Times,serif\" font-size=\"14.00\" text-anchor=\"middle\" x=\"218.5\" y=\"-197.3\">(None, 41, 41, 64)</text>\n",
       "<polyline fill=\"none\" points=\"159.5,-189.5 277.5,-189.5 \" stroke=\"black\"/>\n",
       "<text font-family=\"Times,serif\" font-size=\"14.00\" text-anchor=\"middle\" x=\"218.5\" y=\"-174.3\">(None, 41, 41, 1)</text>\n",
       "</g>\n",
       "<!-- 139990125520488&#45;&gt;139990125520432 -->\n",
       "<g class=\"edge\" id=\"edge3\"><title>139990125520488-&gt;139990125520432</title>\n",
       "<path d=\"M138.773,-249.366C138.875,-241.152 138.992,-231.658 139.102,-222.725\" fill=\"none\" stroke=\"black\"/>\n",
       "<polygon fill=\"black\" points=\"142.603,-222.649 139.227,-212.607 135.604,-222.563 142.603,-222.649\" stroke=\"black\"/>\n",
       "</g>\n",
       "<!-- 139990125520768 -->\n",
       "<g class=\"node\" id=\"node5\"><title>139990125520768</title>\n",
       "<polygon fill=\"none\" points=\"6.5,-83.5 6.5,-129.5 276.5,-129.5 276.5,-83.5 6.5,-83.5\" stroke=\"black\"/>\n",
       "<text font-family=\"Times,serif\" font-size=\"14.00\" text-anchor=\"middle\" x=\"58.5\" y=\"-102.8\">act2: Activation</text>\n",
       "<polyline fill=\"none\" points=\"110.5,-83.5 110.5,-129.5 \" stroke=\"black\"/>\n",
       "<text font-family=\"Times,serif\" font-size=\"14.00\" text-anchor=\"middle\" x=\"138\" y=\"-114.3\">input:</text>\n",
       "<polyline fill=\"none\" points=\"110.5,-106.5 165.5,-106.5 \" stroke=\"black\"/>\n",
       "<text font-family=\"Times,serif\" font-size=\"14.00\" text-anchor=\"middle\" x=\"138\" y=\"-91.3\">output:</text>\n",
       "<polyline fill=\"none\" points=\"165.5,-83.5 165.5,-129.5 \" stroke=\"black\"/>\n",
       "<text font-family=\"Times,serif\" font-size=\"14.00\" text-anchor=\"middle\" x=\"221\" y=\"-114.3\">(None, 41, 41, 1)</text>\n",
       "<polyline fill=\"none\" points=\"165.5,-106.5 276.5,-106.5 \" stroke=\"black\"/>\n",
       "<text font-family=\"Times,serif\" font-size=\"14.00\" text-anchor=\"middle\" x=\"221\" y=\"-91.3\">(None, 41, 41, 1)</text>\n",
       "</g>\n",
       "<!-- 139990125520432&#45;&gt;139990125520768 -->\n",
       "<g class=\"edge\" id=\"edge4\"><title>139990125520432-&gt;139990125520768</title>\n",
       "<path d=\"M140.047,-166.366C140.249,-158.152 140.484,-148.658 140.704,-139.725\" fill=\"none\" stroke=\"black\"/>\n",
       "<polygon fill=\"black\" points=\"144.206,-139.69 140.954,-129.607 137.208,-139.517 144.206,-139.69\" stroke=\"black\"/>\n",
       "</g>\n",
       "<!-- 139990125520768&#45;&gt;139990125204480 -->\n",
       "<g class=\"edge\" id=\"edge5\"><title>139990125520768-&gt;139990125204480</title>\n",
       "<path d=\"M163.907,-83.3664C173.127,-74.2587 183.939,-63.5789 193.803,-53.8346\" fill=\"none\" stroke=\"black\"/>\n",
       "<polygon fill=\"black\" points=\"196.466,-56.1244 201.12,-46.6068 191.546,-51.1444 196.466,-56.1244\" stroke=\"black\"/>\n",
       "</g>\n",
       "</g>\n",
       "</svg>"
      ],
      "text/plain": [
       "<IPython.core.display.SVG object>"
      ]
     },
     "execution_count": 3,
     "metadata": {},
     "output_type": "execute_result"
    }
   ],
   "source": [
    "SVG(model_to_dot(model, show_shapes=True).create(prog='dot', format='svg'))"
   ]
  },
  {
   "cell_type": "code",
   "execution_count": 4,
   "metadata": {},
   "outputs": [],
   "source": [
    "plot_model(model, to_file='VDSR1.png')"
   ]
  }
 ],
 "metadata": {
  "kernelspec": {
   "display_name": "Python 3",
   "language": "python",
   "name": "python3"
  },
  "language_info": {
   "codemirror_mode": {
    "name": "ipython",
    "version": 3
   },
   "file_extension": ".py",
   "mimetype": "text/x-python",
   "name": "python",
   "nbconvert_exporter": "python",
   "pygments_lexer": "ipython3",
   "version": "3.5.2"
  }
 },
 "nbformat": 4,
 "nbformat_minor": 2
}
