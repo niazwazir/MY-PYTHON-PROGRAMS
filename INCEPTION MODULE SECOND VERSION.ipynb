{
 "cells": [
  {
   "cell_type": "code",
   "execution_count": 1,
   "metadata": {},
   "outputs": [
    {
     "name": "stderr",
     "output_type": "stream",
     "text": [
      "/home/savath/.virtualenvs/wazir/lib/python3.5/site-packages/h5py/__init__.py:36: FutureWarning: Conversion of the second argument of issubdtype from `float` to `np.floating` is deprecated. In future, it will be treated as `np.float64 == np.dtype(float).type`.\n",
      "  from ._conv import register_converters as _register_converters\n",
      "Using TensorFlow backend.\n"
     ]
    }
   ],
   "source": [
    "import os\n",
    "import keras\n",
    "import numpy as np\n",
    "from keras import layers\n",
    "from keras.layers import Input\n",
    "from keras.models import Model\n",
    "from keras.datasets import mnist\n",
    "from keras.utils import np_utils\n",
    "from keras.optimizers import SGD\n",
    "from IPython.display import SVG\n",
    "from keras.utils import plot_model\n",
    "from keras.layers import Flatten, Dense\n",
    "from keras.models import model_from_json\n",
    "from keras.utils import to_categorical\n",
    "from keras.layers import Conv2D, MaxPooling2D\n",
    "from keras.utils.vis_utils import model_to_dot"
   ]
  },
  {
   "cell_type": "code",
   "execution_count": 2,
   "metadata": {},
   "outputs": [],
   "source": [
    "(train_images, train_labels), (test_images, test_labels) = mnist.load_data()"
   ]
  },
  {
   "cell_type": "markdown",
   "metadata": {},
   "source": [
    "# Each image is represented as 32x32 pixels each for red, blue and green channels. Each pixel has a value between 0–255. Next, we normalize the values to 0–1."
   ]
  },
  {
   "cell_type": "code",
   "execution_count": 3,
   "metadata": {},
   "outputs": [],
   "source": [
    "def preprocess(img_matrix):\n",
    "    return np.expand_dims(img_matrix, axis=-1).astype('float32') / 255"
   ]
  },
  {
   "cell_type": "code",
   "execution_count": 4,
   "metadata": {},
   "outputs": [],
   "source": [
    "train_images = preprocess(train_images)\n",
    "test_images = preprocess(test_images)\n",
    "train_labels = to_categorical(train_labels)\n",
    "test_labels = to_categorical(test_labels)"
   ]
  },
  {
   "cell_type": "code",
   "execution_count": 5,
   "metadata": {},
   "outputs": [],
   "source": [
    "#from IPython.display import Image\n",
    "#Image('Inception Module.png')"
   ]
  },
  {
   "cell_type": "code",
   "execution_count": 6,
   "metadata": {},
   "outputs": [],
   "source": [
    "input_img = Input(shape=(28, 28, 1))\n",
    "#BRANCH A\n",
    "A= Conv2D(64, (1,1), padding='same', activation='relu',name='BRANCH_A_1X1_CONV')(input_img)\n",
    "\n",
    "#BRANCH B\n",
    "B = Conv2D(64, (1,1), padding='same', activation='relu',name='BRANCH_B_1X1_CONV')(input_img)\n",
    "B = Conv2D(64, (3,3), padding='same', activation='relu',name='BRANCH_B_3X3_CONV')(B)\n",
    "\n",
    "#BRANCH C\n",
    "C = Conv2D(64, (1,1), padding='same', activation='relu',name='BRANCH_C_1X1_CONV')(input_img)\n",
    "C = Conv2D(64, (5,5), padding='same', activation='relu',name='BARNCH_C_5X5_CONV')(C)\n",
    "\n",
    "D = MaxPooling2D((3,3), strides=(1,1), padding='same',name='BRANCH_D_3X3_MAXPO')(input_img)\n",
    "D = Conv2D(64, (1,1), padding='same', activation='relu',name='BRANCH_D_1X1_CONV')(D)\n",
    "\n",
    "# concatenation\n",
    "Filter_Concatenate = keras.layers.concatenate([A, B, C, D], axis = 3)\n",
    "\n",
    "# add dense layers\n",
    "output = layers.Flatten()(Filter_Concatenate)\n",
    "output = layers.Dense(32, activation='relu')(output)\n",
    "output = layers.Dense(10, activation='softmax')(output)"
   ]
  },
  {
   "cell_type": "code",
   "execution_count": 7,
   "metadata": {},
   "outputs": [
    {
     "name": "stdout",
     "output_type": "stream",
     "text": [
      "__________________________________________________________________________________________________\n",
      "Layer (type)                    Output Shape         Param #     Connected to                     \n",
      "==================================================================================================\n",
      "input_1 (InputLayer)            (None, 28, 28, 1)    0                                            \n",
      "__________________________________________________________________________________________________\n",
      "BRANCH_B_1X1_CONV (Conv2D)      (None, 28, 28, 64)   128         input_1[0][0]                    \n",
      "__________________________________________________________________________________________________\n",
      "BRANCH_C_1X1_CONV (Conv2D)      (None, 28, 28, 64)   128         input_1[0][0]                    \n",
      "__________________________________________________________________________________________________\n",
      "BRANCH_D_3X3_MAXPO (MaxPooling2 (None, 28, 28, 1)    0           input_1[0][0]                    \n",
      "__________________________________________________________________________________________________\n",
      "BRANCH_A_1X1_CONV (Conv2D)      (None, 28, 28, 64)   128         input_1[0][0]                    \n",
      "__________________________________________________________________________________________________\n",
      "BRANCH_B_3X3_CONV (Conv2D)      (None, 28, 28, 64)   36928       BRANCH_B_1X1_CONV[0][0]          \n",
      "__________________________________________________________________________________________________\n",
      "BARNCH_C_5X5_CONV (Conv2D)      (None, 28, 28, 64)   102464      BRANCH_C_1X1_CONV[0][0]          \n",
      "__________________________________________________________________________________________________\n",
      "BRANCH_D_1X1_CONV (Conv2D)      (None, 28, 28, 64)   128         BRANCH_D_3X3_MAXPO[0][0]         \n",
      "__________________________________________________________________________________________________\n",
      "concatenate_1 (Concatenate)     (None, 28, 28, 256)  0           BRANCH_A_1X1_CONV[0][0]          \n",
      "                                                                 BRANCH_B_3X3_CONV[0][0]          \n",
      "                                                                 BARNCH_C_5X5_CONV[0][0]          \n",
      "                                                                 BRANCH_D_1X1_CONV[0][0]          \n",
      "__________________________________________________________________________________________________\n",
      "flatten_1 (Flatten)             (None, 200704)       0           concatenate_1[0][0]              \n",
      "__________________________________________________________________________________________________\n",
      "dense_1 (Dense)                 (None, 32)           6422560     flatten_1[0][0]                  \n",
      "__________________________________________________________________________________________________\n",
      "dense_2 (Dense)                 (None, 10)           330         dense_1[0][0]                    \n",
      "==================================================================================================\n",
      "Total params: 6,562,794\n",
      "Trainable params: 6,562,794\n",
      "Non-trainable params: 0\n",
      "__________________________________________________________________________________________________\n"
     ]
    }
   ],
   "source": [
    "model = Model(inputs=input_img, outputs=output)\n",
    "model.summary()"
   ]
  },
  {
   "cell_type": "code",
   "execution_count": 8,
   "metadata": {},
   "outputs": [],
   "source": [
    "#SVG(model_to_dot(model, show_shapes=True).create(prog='dot', format='svg'))"
   ]
  },
  {
   "cell_type": "code",
   "execution_count": 9,
   "metadata": {},
   "outputs": [],
   "source": [
    "plot_model(model, to_file='INCEPTION.png')"
   ]
  },
  {
   "cell_type": "code",
   "execution_count": 10,
   "metadata": {},
   "outputs": [],
   "source": [
    "model.compile(optimizer='rmsprop', loss='categorical_crossentropy', metrics=['accuracy'])"
   ]
  },
  {
   "cell_type": "code",
   "execution_count": 11,
   "metadata": {},
   "outputs": [
    {
     "name": "stdout",
     "output_type": "stream",
     "text": [
      "Epoch 1/1\n",
      "60000/60000 [==============================] - 31s 509us/step - loss: 0.1664 - acc: 0.9513\n"
     ]
    },
    {
     "data": {
      "text/plain": [
       "<keras.callbacks.History at 0x7fa6dd85f320>"
      ]
     },
     "execution_count": 11,
     "metadata": {},
     "output_type": "execute_result"
    }
   ],
   "source": [
    "model.fit(train_images, train_labels, epochs=1, batch_size=64)"
   ]
  },
  {
   "cell_type": "code",
   "execution_count": 12,
   "metadata": {},
   "outputs": [
    {
     "name": "stdout",
     "output_type": "stream",
     "text": [
      "10000/10000 [==============================] - 6s 643us/step\n"
     ]
    }
   ],
   "source": [
    "test_loss, test_acc = model.evaluate(test_images, test_labels)"
   ]
  },
  {
   "cell_type": "code",
   "execution_count": 13,
   "metadata": {},
   "outputs": [
    {
     "data": {
      "text/plain": [
       "0.984"
      ]
     },
     "execution_count": 13,
     "metadata": {},
     "output_type": "execute_result"
    }
   ],
   "source": [
    "test_acc"
   ]
  },
  {
   "cell_type": "code",
   "execution_count": 14,
   "metadata": {},
   "outputs": [],
   "source": [
    "model_json = model.to_json()\n",
    "with open(\"model.json\", \"w\") as json_file:\n",
    "    json_file.write(model_json)\n",
    "\n",
    "model.save_weights(os.path.join(os.getcwd(), 'wazirmodel.h5'))"
   ]
  },
  {
   "cell_type": "code",
   "execution_count": null,
   "metadata": {},
   "outputs": [],
   "source": []
  }
 ],
 "metadata": {
  "kernelspec": {
   "display_name": "Python 3",
   "language": "python",
   "name": "python3"
  },
  "language_info": {
   "codemirror_mode": {
    "name": "ipython",
    "version": 3
   },
   "file_extension": ".py",
   "mimetype": "text/x-python",
   "name": "python",
   "nbconvert_exporter": "python",
   "pygments_lexer": "ipython3",
   "version": "3.5.2"
  }
 },
 "nbformat": 4,
 "nbformat_minor": 2
}
