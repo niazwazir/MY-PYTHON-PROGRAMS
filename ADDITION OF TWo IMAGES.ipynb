{
 "cells": [
  {
   "cell_type": "code",
   "execution_count": null,
   "metadata": {},
   "outputs": [],
   "source": [
    "#ADD TWO IMAGES\n",
    "#FROM SENDEX \n",
    "#Loading Video Source-OpenCV with Python for Image and Video Analysis5\n",
    "import numpy as np\n",
    "import cv2\n",
    "img1 = cv2.imread('/home/wazir/SRGAN/zebra.png', cv2.IMREAD_COLOR)\n",
    "img2 = cv2.imread('/home/wazir/SRGAN/flower.png', cv2.IMREAD_COLOR)\n",
    "#add = img1 + img2 #OR BELOW COMMAND\n",
    "cv2.add(img1,img2)\n",
    "cv2.imshow('Addition',add)\n",
    "cv2.waitKey(0)\n",
    "cv2.destroyAllWindows()"
   ]
  },
  {
   "cell_type": "code",
   "execution_count": 7,
   "metadata": {},
   "outputs": [],
   "source": [
    "#WEIGHTED ADDITION OF TWO IMAGES\n",
    "#FROM SENDEX \n",
    "#Loading Video Source-OpenCV with Python for Image and Video Analysis5\n",
    "import numpy as np\n",
    "import cv2\n",
    "img1 = cv2.imread('/home/wazir/SRGAN/zebra.png', cv2.IMREAD_COLOR)\n",
    "img2 = cv2.imread('/home/wazir/SRGAN/flower.png', cv2.IMREAD_COLOR)\n",
    "weighted = cv2.addWeighted(img1, 0.6, img2, 0.4, 0) # 60% first image and 40% of second image and 0 is gamma value\n",
    "cv2.imshow('Weighted Addition',weighted)\n",
    "cv2.waitKey(0)\n",
    "cv2.destroyAllWindows()"
   ]
  },
  {
   "cell_type": "code",
   "execution_count": 1,
   "metadata": {},
   "outputs": [],
   "source": [
    "import cv2\n",
    "import numpy as np\n",
    "\n",
    "# Load two images\n",
    "img1 = cv2.imread('/home/wazir/SRGAN/zebra.png', cv2.IMREAD_COLOR)\n",
    "img2 = cv2.imread('/home/wazir/SRGAN/flower.png', cv2.IMREAD_COLOR)\n",
    "\n",
    "# I want to put logo on top-left corner, So I create a ROI\n",
    "rows,cols,channels = img2.shape\n",
    "roi = img1[0:rows, 0:cols ]\n",
    "\n",
    "# Now create a mask of logo and create its inverse mask\n",
    "img2gray = cv2.cvtColor(img2,cv2.COLOR_BGR2GRAY)\n",
    "\n",
    "# add a threshold\n",
    "ret, mask = cv2.threshold(img2gray, 220, 255, cv2.THRESH_BINARY_INV)\n",
    "\n",
    "mask_inv = cv2.bitwise_not(mask)\n",
    "\n",
    "# Now black-out the area of logo in ROI\n",
    "img1_bg = cv2.bitwise_and(roi,roi,mask = mask_inv)\n",
    "\n",
    "# Take only region of logo from logo image.\n",
    "img2_fg = cv2.bitwise_and(img2,img2,mask = mask)\n",
    "\n",
    "dst = cv2.add(img1_bg,img2_fg)\n",
    "img1[0:rows, 0:cols ] = dst\n",
    "\n",
    "cv2.imshow('res',img1)\n",
    "cv2.imshow('mask_inv',mask_inv)\n",
    "cv2.imshow('img1_bg',img1_bg)\n",
    "cv2.imshow('img2_fg',img2_fg)\n",
    "cv2.imshow('dst',dst)\n",
    "cv2.waitKey(0)\n",
    "cv2.destroyAllWindows()"
   ]
  },
  {
   "cell_type": "code",
   "execution_count": null,
   "metadata": {},
   "outputs": [],
   "source": []
  }
 ],
 "metadata": {
  "kernelspec": {
   "display_name": "Python 3",
   "language": "python",
   "name": "python3"
  },
  "language_info": {
   "codemirror_mode": {
    "name": "ipython",
    "version": 3
   },
   "file_extension": ".py",
   "mimetype": "text/x-python",
   "name": "python",
   "nbconvert_exporter": "python",
   "pygments_lexer": "ipython3",
   "version": "3.5.2"
  }
 },
 "nbformat": 4,
 "nbformat_minor": 2
}
