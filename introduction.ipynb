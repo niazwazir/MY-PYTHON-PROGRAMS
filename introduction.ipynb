{
 "cells": [
  {
   "cell_type": "code",
   "execution_count": 1,
   "metadata": {},
   "outputs": [
    {
     "name": "stdout",
     "output_type": "stream",
     "text": [
      "HELLO WORLD\n"
     ]
    }
   ],
   "source": [
    "#PRINT\n",
    "print(\"HELLO WORLD\")"
   ]
  },
  {
   "cell_type": "code",
   "execution_count": 2,
   "metadata": {},
   "outputs": [
    {
     "name": "stdout",
     "output_type": "stream",
     "text": [
      "300\n"
     ]
    }
   ],
   "source": [
    "print (100 + 100 + 100)"
   ]
  },
  {
   "cell_type": "code",
   "execution_count": 3,
   "metadata": {},
   "outputs": [
    {
     "data": {
      "text/plain": [
       "5"
      ]
     },
     "execution_count": 3,
     "metadata": {},
     "output_type": "execute_result"
    }
   ],
   "source": [
    "#COMMENTS START WITH HASH \n",
    "#MULTI LINE COMMENTS ''''''\n",
    "'''\n",
    "AAAAAAAAAAAAAAAAAAAAA\n",
    "AAAAAAAAAAAAAAAAAAAAA\n",
    "AAAAAAAAAAAAAAAA\n",
    "'''\n",
    "2+3"
   ]
  },
  {
   "cell_type": "code",
   "execution_count": 4,
   "metadata": {},
   "outputs": [
    {
     "name": "stdout",
     "output_type": "stream",
     "text": [
      "10\n"
     ]
    }
   ],
   "source": [
    "i = 10\n",
    "print(i)"
   ]
  },
  {
   "cell_type": "code",
   "execution_count": 5,
   "metadata": {},
   "outputs": [],
   "source": [
    "def cube(x):\n",
    "    return x**3"
   ]
  },
  {
   "cell_type": "code",
   "execution_count": 6,
   "metadata": {},
   "outputs": [
    {
     "data": {
      "text/plain": [
       "27"
      ]
     },
     "execution_count": 6,
     "metadata": {},
     "output_type": "execute_result"
    }
   ],
   "source": [
    "cube(3)"
   ]
  },
  {
   "cell_type": "code",
   "execution_count": 7,
   "metadata": {},
   "outputs": [],
   "source": [
    "def root(x):\n",
    "    return x**2"
   ]
  },
  {
   "cell_type": "code",
   "execution_count": 8,
   "metadata": {},
   "outputs": [
    {
     "data": {
      "text/plain": [
       "81"
      ]
     },
     "execution_count": 8,
     "metadata": {},
     "output_type": "execute_result"
    }
   ],
   "source": [
    "root(9)"
   ]
  },
  {
   "cell_type": "code",
   "execution_count": 9,
   "metadata": {},
   "outputs": [],
   "source": [
    "def square(start, end):\n",
    "    return[(i**2 for i in range (start, end+1))]"
   ]
  },
  {
   "cell_type": "code",
   "execution_count": 10,
   "metadata": {},
   "outputs": [
    {
     "name": "stdout",
     "output_type": "stream",
     "text": [
      "SUM OF 2 AND 3 IS 5\n"
     ]
    }
   ],
   "source": [
    "#ADDITION\n",
    "a = 2\n",
    "b = 3\n",
    "c = a + b\n",
    "print (\"SUM OF\", a, \"AND\",b,\"IS\",c)"
   ]
  },
  {
   "cell_type": "code",
   "execution_count": 11,
   "metadata": {},
   "outputs": [
    {
     "name": "stdout",
     "output_type": "stream",
     "text": [
      "5.0\n"
     ]
    }
   ],
   "source": [
    "#DIVISION OF TWO NUMBER\n",
    "a = 10\n",
    "b = 2\n",
    "c = a/b\n",
    "print(c)"
   ]
  },
  {
   "cell_type": "code",
   "execution_count": 13,
   "metadata": {},
   "outputs": [
    {
     "name": "stdout",
     "output_type": "stream",
     "text": [
      "MY NAME IS WAZIR LAGHARI\n"
     ]
    }
   ],
   "source": [
    "#CONCATENATE TWO STRINGS\n",
    "a = \"MY NAME IS \"\n",
    "b = 'WAZIR LAGHARI'\n",
    "c = a+b\n",
    "print(c)"
   ]
  },
  {
   "cell_type": "code",
   "execution_count": 14,
   "metadata": {},
   "outputs": [
    {
     "name": "stdout",
     "output_type": "stream",
     "text": [
      "MYNAMEISWAZIRLAGHARISTUDENT\n"
     ]
    }
   ],
   "source": [
    "#CONCATENATE TWO STRINGS\n",
    "a = \"MYNAMEIS\"\n",
    "b = 'WAZIRLAGHARI'\n",
    "c = 'STUDENT'\n",
    "d = a+b+c\n",
    "print(d)"
   ]
  },
  {
   "cell_type": "code",
   "execution_count": 15,
   "metadata": {},
   "outputs": [
    {
     "name": "stdout",
     "output_type": "stream",
     "text": [
      "MYNAMEIS WAZIRLAGHARI STUDENT 100\n"
     ]
    }
   ],
   "source": [
    "#CONCATENATE TWO STRINGS SEE DIFFERENCES\n",
    "a = \"MYNAMEIS\"\n",
    "b = 'WAZIRLAGHARI'\n",
    "c = 'STUDENT'\n",
    "print(a,b,c, 100)"
   ]
  },
  {
   "cell_type": "code",
   "execution_count": 18,
   "metadata": {},
   "outputs": [
    {
     "name": "stdout",
     "output_type": "stream",
     "text": [
      "Niaz laghari\n"
     ]
    }
   ],
   "source": [
    "#STRING CAPITALIZE\n",
    "a = \"niaz laghari\"\n",
    "b = a.capitalize()\n",
    "print(b)"
   ]
  },
  {
   "cell_type": "code",
   "execution_count": 19,
   "metadata": {},
   "outputs": [
    {
     "name": "stdout",
     "output_type": "stream",
     "text": [
      "this is upper case of string a: NIAZ LAGHARI\n"
     ]
    }
   ],
   "source": [
    "#STRING IN UPPER CASE\n",
    "a = \"niaz laghari\"\n",
    "b = a.upper()\n",
    "print(\"this is upper case of string a:\", b)"
   ]
  },
  {
   "cell_type": "code",
   "execution_count": 20,
   "metadata": {},
   "outputs": [
    {
     "name": "stdout",
     "output_type": "stream",
     "text": [
      "this is lower case of string a: niaz laghari\n"
     ]
    }
   ],
   "source": [
    "#STRING IN LOWER CASE\n",
    "a = \"NIAZ LAGHARI\"\n",
    "b = a.lower()\n",
    "print(\"this is lower case of string a:\", b)"
   ]
  },
  {
   "cell_type": "code",
   "execution_count": 21,
   "metadata": {},
   "outputs": [
    {
     "name": "stdout",
     "output_type": "stream",
     "text": [
      "this is lower case of string a: Niaz Laghari Student\n"
     ]
    }
   ],
   "source": [
    "#IN STRING EVERY WORD OF FIRST LETTER IS CAPITAL\n",
    "a = \"niaz laghari student\"\n",
    "b = a.title()\n",
    "print(\"this is lower case of string a:\", b)"
   ]
  },
  {
   "cell_type": "code",
   "execution_count": 26,
   "metadata": {},
   "outputs": [
    {
     "name": "stdout",
     "output_type": "stream",
     "text": [
      "True\n"
     ]
    }
   ],
   "source": [
    "a = \"niaz laghari student\"\n",
    "b = a.islower()\n",
    "print(b) # RESPONSE IS TRUE"
   ]
  },
  {
   "cell_type": "code",
   "execution_count": 27,
   "metadata": {},
   "outputs": [
    {
     "name": "stdout",
     "output_type": "stream",
     "text": [
      "False\n"
     ]
    }
   ],
   "source": [
    "a = \"niaz laghari student\"\n",
    "b = a.isupper()\n",
    "print(b) "
   ]
  },
  {
   "cell_type": "code",
   "execution_count": 28,
   "metadata": {},
   "outputs": [
    {
     "name": "stdout",
     "output_type": "stream",
     "text": [
      "True\n"
     ]
    }
   ],
   "source": [
    "a = \"Niaz Laghari Student\"\n",
    "b = a.istitle()\n",
    "print(b) "
   ]
  },
  {
   "cell_type": "code",
   "execution_count": 30,
   "metadata": {},
   "outputs": [
    {
     "name": "stdout",
     "output_type": "stream",
     "text": [
      "True\n"
     ]
    }
   ],
   "source": [
    "#isalpha means in this string all is alphabet character\n",
    "a = \"NiazLaghariStudent\"\n",
    "b = a.isalpha()\n",
    "print(b)"
   ]
  },
  {
   "cell_type": "code",
   "execution_count": 32,
   "metadata": {},
   "outputs": [
    {
     "name": "stdout",
     "output_type": "stream",
     "text": [
      "False\n"
     ]
    }
   ],
   "source": [
    "#isalpha means in this string all is alphabet character\n",
    "a = \"92NiazLaghariStudent\"\n",
    "b = a.isalpha()\n",
    "print(b)"
   ]
  },
  {
   "cell_type": "code",
   "execution_count": 31,
   "metadata": {},
   "outputs": [
    {
     "name": "stdout",
     "output_type": "stream",
     "text": [
      "False\n"
     ]
    }
   ],
   "source": [
    "a = \"Niaz Laghari Student\"\n",
    "b = a.isalpha()\n",
    "print(b)"
   ]
  },
  {
   "cell_type": "code",
   "execution_count": 33,
   "metadata": {},
   "outputs": [
    {
     "name": "stdout",
     "output_type": "stream",
     "text": [
      "True\n"
     ]
    }
   ],
   "source": [
    "#isalnum means in this string alphabet and numbers\n",
    "a = \"92NiazLaghariStudent\"\n",
    "b = a.isalnum()\n",
    "print(b)"
   ]
  },
  {
   "cell_type": "code",
   "execution_count": 36,
   "metadata": {},
   "outputs": [
    {
     "name": "stdout",
     "output_type": "stream",
     "text": [
      "True\n"
     ]
    }
   ],
   "source": [
    "#isdigit means in this string only all digits\n",
    "a = \"123\"\n",
    "b = a.isdigit()\n",
    "print(b)"
   ]
  },
  {
   "cell_type": "code",
   "execution_count": 38,
   "metadata": {},
   "outputs": [
    {
     "name": "stdout",
     "output_type": "stream",
     "text": [
      "['WAZIR', 'LAGHARI', 'STUDENT', '.']\n"
     ]
    }
   ],
   "source": [
    "#HERE SEE HOW SPLIT THE STRING\n",
    "a = \"WAZIR LAGHARI STUDENT .\"\n",
    "b = a.split()\n",
    "print(b)"
   ]
  },
  {
   "cell_type": "code",
   "execution_count": 40,
   "metadata": {},
   "outputs": [
    {
     "name": "stdout",
     "output_type": "stream",
     "text": [
      "['W', 'ZIR L', 'GH', 'RI STUDENT .']\n"
     ]
    }
   ],
   "source": [
    "#HERE SPLIT AND REMOVE ONE LETTER FROM STRING\n",
    "a = \"WAZIR LAGHARI STUDENT .\"\n",
    "b = a.split('A')\n",
    "print(b)"
   ]
  },
  {
   "cell_type": "code",
   "execution_count": 42,
   "metadata": {},
   "outputs": [
    {
     "name": "stdout",
     "output_type": "stream",
     "text": [
      "['Sun Ris', 's In Th', ' East']\n"
     ]
    }
   ],
   "source": [
    "#HERE SPLIT ONLY SMALL e LETTER\n",
    "a = \"Sun Rises In The East\"\n",
    "b = a.split('e')\n",
    "print(b)"
   ]
  },
  {
   "cell_type": "code",
   "execution_count": 43,
   "metadata": {},
   "outputs": [
    {
     "name": "stdout",
     "output_type": "stream",
     "text": [
      "10\n"
     ]
    }
   ],
   "source": [
    "#FIND IS USE TO FIND THE LETTER PRESENT ON WHAt POSITION IN STRING\n",
    "a = \"Sun Rises In The East\"\n",
    "b = a.find('In')\n",
    "print(b)"
   ]
  },
  {
   "cell_type": "code",
   "execution_count": 48,
   "metadata": {},
   "outputs": [
    {
     "name": "stdout",
     "output_type": "stream",
     "text": [
      "10\n",
      "22\n"
     ]
    }
   ],
   "source": [
    "#FIND IS USE TO FIND THE LETTER PRESENT ON WHAt POSITION IN STRING\n",
    "a = \"Sun Rises In The East 651309\"\n",
    "b = a.find('In')\n",
    "c = a.find('651309')\n",
    "print(b)\n",
    "print(c)"
   ]
  },
  {
   "cell_type": "code",
   "execution_count": 55,
   "metadata": {},
   "outputs": [
    {
     "name": "stdout",
     "output_type": "stream",
     "text": [
      "Wazir Laghari\n",
      "\n",
      "Student\n"
     ]
    }
   ],
   "source": [
    "#PRINT SENTENCE IN SEPARATE LINE WE USE /n\n",
    "print('Wazir Laghari\\n\\nStudent')"
   ]
  },
  {
   "cell_type": "code",
   "execution_count": 54,
   "metadata": {},
   "outputs": [
    {
     "name": "stdout",
     "output_type": "stream",
     "text": [
      "Wazir Laghari\t\tStudent\n"
     ]
    }
   ],
   "source": [
    "#\\t used to create space of four \n",
    "print('Wazir Laghari\\t\\tStudent')"
   ]
  },
  {
   "cell_type": "code",
   "execution_count": 59,
   "metadata": {},
   "outputs": [
    {
     "name": "stdout",
     "output_type": "stream",
     "text": [
      "'Wazir Laghari Student'\n"
     ]
    }
   ],
   "source": [
    "#'\\'   '\\' Print in Quote \n",
    "print('\\'Wazir Laghari Student\\'')"
   ]
  },
  {
   "cell_type": "code",
   "execution_count": 60,
   "metadata": {},
   "outputs": [
    {
     "name": "stdout",
     "output_type": "stream",
     "text": [
      "\"Wazir Laghari Student\"\n"
     ]
    }
   ],
   "source": [
    "#Print in Double Quote \n",
    "print(\"\\\"Wazir Laghari Student\\\"\")"
   ]
  },
  {
   "cell_type": "code",
   "execution_count": 62,
   "metadata": {},
   "outputs": [
    {
     "name": "stdout",
     "output_type": "stream",
     "text": [
      "\\Wazir Laghari Student\\\n"
     ]
    }
   ],
   "source": [
    "#Print Back Slash\n",
    "print(\"\\\\Wazir Laghari Student\\\\\")"
   ]
  },
  {
   "cell_type": "code",
   "execution_count": 63,
   "metadata": {},
   "outputs": [
    {
     "name": "stdout",
     "output_type": "stream",
     "text": [
      "\\\\Wazir Laghari Student\\\\\n"
     ]
    }
   ],
   "source": [
    "#Print Back Slash\n",
    "print(\"\\\\\\\\Wazir Laghari Student\\\\\\\\\")"
   ]
  },
  {
   "cell_type": "code",
   "execution_count": 68,
   "metadata": {},
   "outputs": [
    {
     "name": "stdout",
     "output_type": "stream",
     "text": [
      "wazir;laghari;student;123\n"
     ]
    }
   ],
   "source": [
    "a = ['wazir','laghari','student','123']\n",
    "b = ';'\n",
    "print (b.join(a))"
   ]
  },
  {
   "cell_type": "code",
   "execution_count": 70,
   "metadata": {},
   "outputs": [
    {
     "name": "stdout",
     "output_type": "stream",
     "text": [
      "wazir******laghari******student******123\n"
     ]
    }
   ],
   "source": [
    "a = ['wazir','laghari','student','123']\n",
    "b = '******' #USE ANY SEPARATOR\n",
    "print (b.join(a))"
   ]
  },
  {
   "cell_type": "code",
   "execution_count": 73,
   "metadata": {},
   "outputs": [
    {
     "name": "stdout",
     "output_type": "stream",
     "text": [
      "wazirlaghari\n"
     ]
    }
   ],
   "source": [
    "print('{}{}'.format('wazir','laghari'))"
   ]
  },
  {
   "cell_type": "code",
   "execution_count": 76,
   "metadata": {},
   "outputs": [
    {
     "name": "stdout",
     "output_type": "stream",
     "text": [
      "wazir laghari student electrical\n"
     ]
    }
   ],
   "source": [
    "print('{} {} {} {}'.format('wazir','laghari', 'student','electrical'))"
   ]
  },
  {
   "cell_type": "code",
   "execution_count": null,
   "metadata": {},
   "outputs": [],
   "source": []
  }
 ],
 "metadata": {
  "kernelspec": {
   "display_name": "Python 3",
   "language": "python",
   "name": "python3"
  },
  "language_info": {
   "codemirror_mode": {
    "name": "ipython",
    "version": 3
   },
   "file_extension": ".py",
   "mimetype": "text/x-python",
   "name": "python",
   "nbconvert_exporter": "python",
   "pygments_lexer": "ipython3",
   "version": "3.6.5"
  }
 },
 "nbformat": 4,
 "nbformat_minor": 2
}
