{
 "cells": [
  {
   "cell_type": "code",
   "execution_count": 6,
   "metadata": {},
   "outputs": [
    {
     "name": "stdout",
     "output_type": "stream",
     "text": [
      "20\n"
     ]
    }
   ],
   "source": [
    "#IF ELSE STATEMENT ALSo CALLED CONDITIONAl STATEMENT\n",
    "a = 10\n",
    "b = 20\n",
    "if a>b:\n",
    "    print (a)\n",
    "else:\n",
    "    print (b)"
   ]
  },
  {
   "cell_type": "code",
   "execution_count": 7,
   "metadata": {},
   "outputs": [
    {
     "ename": "IndentationError",
     "evalue": "unexpected indent (<ipython-input-7-2c4241badf97>, line 2)",
     "output_type": "error",
     "traceback": [
      "\u001b[1;36m  File \u001b[1;32m\"<ipython-input-7-2c4241badf97>\"\u001b[1;36m, line \u001b[1;32m2\u001b[0m\n\u001b[1;33m    if weight > 50:\u001b[0m\n\u001b[1;37m    ^\u001b[0m\n\u001b[1;31mIndentationError\u001b[0m\u001b[1;31m:\u001b[0m unexpected indent\n"
     ]
    }
   ],
   "source": [
    " weight = float(input(\"How many pounds does your suitcase weigh? \"))\n",
    "    if weight > 50:\n",
    "        print(\"There is a $25 charge for luggage that heavy.\")\n",
    "    print(\"Thank you for your business.\")"
   ]
  },
  {
   "cell_type": "code",
   "execution_count": 12,
   "metadata": {},
   "outputs": [
    {
     "name": "stdout",
     "output_type": "stream",
     "text": [
      "yes\n"
     ]
    }
   ],
   "source": [
    "a = 10\n",
    "b = 20\n",
    "c = 30\n",
    "if(a+b)/c==1 and c-b-a ==0:\n",
    "        print('yes')\n",
    "else:\n",
    "        print('no')"
   ]
  },
  {
   "cell_type": "code",
   "execution_count": 16,
   "metadata": {},
   "outputs": [
    {
     "name": "stdout",
     "output_type": "stream",
     "text": [
      "fourth condition is true\n"
     ]
    }
   ],
   "source": [
    "#if-else-statement\n",
    "a = 10\n",
    "b = 11\n",
    "c = 12\n",
    "d = 20\n",
    "e = 10\n",
    "if a == b:\n",
    "    print('first condition is true')\n",
    "elif a == c:\n",
    "    print('second condition is true')\n",
    "elif a == d:\n",
    "    print('third condition is true')\n",
    "elif a == e:\n",
    "    print('fourth condition is true')\n",
    "else:\n",
    "    print('nothing is true. existence is pain.')"
   ]
  },
  {
   "cell_type": "code",
   "execution_count": 19,
   "metadata": {},
   "outputs": [
    {
     "name": "stdout",
     "output_type": "stream",
     "text": [
      "a is greatest\n"
     ]
    }
   ],
   "source": [
    "a = 100\n",
    "b = 20\n",
    "c = 30\n",
    "d = 40\n",
    "if a>b:\n",
    "    if a>c:\n",
    "        if a>d:\n",
    "            print('a is greatest')\n",
    "else:\n",
    "                print('d is greatest')"
   ]
  },
  {
   "cell_type": "code",
   "execution_count": null,
   "metadata": {},
   "outputs": [],
   "source": []
  }
 ],
 "metadata": {
  "kernelspec": {
   "display_name": "Python 3",
   "language": "python",
   "name": "python3"
  },
  "language_info": {
   "codemirror_mode": {
    "name": "ipython",
    "version": 3
   },
   "file_extension": ".py",
   "mimetype": "text/x-python",
   "name": "python",
   "nbconvert_exporter": "python",
   "pygments_lexer": "ipython3",
   "version": "3.6.5"
  }
 },
 "nbformat": 4,
 "nbformat_minor": 2
}
