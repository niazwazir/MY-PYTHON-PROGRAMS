{
 "cells": [
  {
   "cell_type": "code",
   "execution_count": 3,
   "metadata": {},
   "outputs": [
    {
     "name": "stdout",
     "output_type": "stream",
     "text": [
      "Neel@gmail.com\n",
      "Neel@gmail.com\n",
      "Neel\n",
      "Neel\n"
     ]
    }
   ],
   "source": [
    "class Student:\n",
    "    \n",
    "    pass\n",
    "Std_1 = Student()\n",
    "Std_2 = Student()\n",
    "\n",
    "Std_1.first = 'Neel'\n",
    "Std_1.last = 'laghari'\n",
    "Std_1.email = 'Neel@gmail.com'\n",
    "Std_1.marks = 55\n",
    "\n",
    "Std_2.first = 'Neel'\n",
    "Std_2.last = 'laghari'\n",
    "Std_2.email = 'Neel@gmail.com'\n",
    "Std_2.marks = 55\n",
    "\n",
    "print(Std_1.email)\n",
    "print(Std_2.email)\n",
    "print(Std_1.first)\n",
    "print(Std_2.first)   "
   ]
  },
  {
   "cell_type": "code",
   "execution_count": 5,
   "metadata": {},
   "outputs": [
    {
     "name": "stdout",
     "output_type": "stream",
     "text": [
      "Wazir.Laghari@gmail.com\n",
      "Ali.Laghari@gmail.com\n"
     ]
    }
   ],
   "source": [
    "# NOW I USE INITIALIZE METHODS\n",
    "class Student:\n",
    "    \n",
    "    def __init__(self, first, last, marks):  # self is nothing but instances\n",
    "        self.first = first\n",
    "        self.last  = last\n",
    "        self.marks = marks\n",
    "        self.email = first + '.' + last + '@gmail.com'\n",
    "    \n",
    "    \n",
    "Std_1 = Student('Wazir', 'Laghari', 90)\n",
    "Std_2 = Student('Ali', 'Laghari', 80)\n",
    "\n",
    "print(Std_1.email)\n",
    "print(Std_2.email)   "
   ]
  },
  {
   "cell_type": "code",
   "execution_count": 6,
   "metadata": {},
   "outputs": [
    {
     "name": "stdout",
     "output_type": "stream",
     "text": [
      "Wazir.Laghari@gmail.com\n",
      "Ali.Laghari@gmail.com\n",
      "Wazir Laghari\n"
     ]
    }
   ],
   "source": [
    "# CONCATENATION FIRST AND LAST NAME\n",
    "class Student:\n",
    "    \n",
    "    def __init__(self, first, last, marks):  # self is nothing but instances\n",
    "        self.first = first\n",
    "        self.last  = last\n",
    "        self.marks = marks\n",
    "        self.email = first + '.' + last + '@gmail.com'\n",
    "    \n",
    "    \n",
    "Std_1 = Student('Wazir', 'Laghari', 90)\n",
    "Std_2 = Student('Ali', 'Laghari', 80)\n",
    "\n",
    "print(Std_1.email)\n",
    "print(Std_2.email)\n",
    "print('{} {}'.format(Std_1.first, Std_1.last))"
   ]
  },
  {
   "cell_type": "code",
   "execution_count": 19,
   "metadata": {},
   "outputs": [
    {
     "name": "stdout",
     "output_type": "stream",
     "text": [
      "Wazir.Laghari@gmail.com\n",
      "Ali.Laghari@gmail.com\n",
      "Wazir Laghari\n",
      "Ali Laghari\n"
     ]
    }
   ],
   "source": [
    "# SO THAT WAY WE CAN NOT DO FOR ALL SO WE CREATE A METHOD THEY DO IT\n",
    "# So WE CREATE A METHOD INSIDE A CLASS Do AUTOMATICALLY\n",
    "class Student:\n",
    "    \n",
    "    def __init__(self, first, last, marks):  # self is nothing but instances\n",
    "        self.first = first\n",
    "        self.last  = last\n",
    "        self.marks = marks\n",
    "        self.email = first + '.' + last + '@gmail.com'\n",
    "        \n",
    "    def fullname (self):\n",
    "        return '{} {}'.format(self.first, self.last)\n",
    "    \n",
    "    \n",
    "Std_1 = Student('Wazir', 'Laghari', 60)\n",
    "Std_2 = Student('Ali', 'Laghari', 90)\n",
    "\n",
    "print(Std_1.email)\n",
    "print(Std_2.email)\n",
    "print(Std_1.fullname())\n",
    "print(Std_2.fullname())"
   ]
  },
  {
   "cell_type": "code",
   "execution_count": 20,
   "metadata": {},
   "outputs": [
    {
     "name": "stdout",
     "output_type": "stream",
     "text": [
      "60\n",
      "63\n",
      "90\n",
      "94\n"
     ]
    }
   ],
   "source": [
    "#EVERY STUDENT RISE 5 PERCENTAGE EVERY YEAR SO WE DEFINE ONE MORE METHOD\n",
    "#HERE\n",
    "class Student:\n",
    "    perc_rise = 1.05 # percentage increase 5%\n",
    "    \n",
    "    def __init__(self, first, last, marks):  # self is nothing but instances\n",
    "        self.first = first\n",
    "        self.last  = last\n",
    "        self.marks = marks\n",
    "        self.email = first + '.' + last + '@gmail.com'\n",
    "        \n",
    "    def fullname (self):\n",
    "        return '{} {}'.format(self.first, self.last)\n",
    "    \n",
    "    def apply_raise(self): #here define one more method\n",
    "        self.marks = int(self.marks *1.05) # int is integer\n",
    "    \n",
    "    \n",
    "Std_1 = Student('Wazir', 'Laghari', 60)\n",
    "Std_2 = Student('Ali', 'Laghari', 90)\n",
    "\n",
    "print(Std_1.marks)\n",
    "Std_1.apply_raise() #Std_1 instance, dot name of method and print finalmarks\n",
    "print(Std_1.marks) # so earlier 60 % after 5 % increase it has score 63 %\n",
    "\n",
    "print(Std_2.marks)\n",
    "Std_2.apply_raise() #Std_1 instance, dot name of method and print finalmarks\n",
    "print(Std_2.marks) # so earlier 90 % after 5 % increase it has score 94 %"
   ]
  },
  {
   "cell_type": "code",
   "execution_count": 21,
   "metadata": {},
   "outputs": [
    {
     "name": "stdout",
     "output_type": "stream",
     "text": [
      "60\n",
      "63\n",
      "90\n",
      "94\n",
      "{'first': 'Wazir', 'last': 'Laghari', 'marks': 63, 'email': 'Wazir.Laghari@gmail.com'}\n",
      "{'first': 'Ali', 'last': 'Laghari', 'marks': 94, 'email': 'Ali.Laghari@gmail.com'}\n"
     ]
    }
   ],
   "source": [
    "# NOW I WANT TO PRINT THE DICTIONARY OF STUDENT 2\n",
    "#EVERY STUDENT RISE 5 PERCENTAGE EVERY YEAR SO WE DEFINE ONE MORE METHOD\n",
    "#HERE\n",
    "class Student:\n",
    "    perc_rise = 1.05 # percentage increase 5%\n",
    "    def __init__(self, first, last, marks):  # self is nothing but instances\n",
    "        self.first = first\n",
    "        self.last  = last\n",
    "        self.marks = marks\n",
    "        self.email = first + '.' + last + '@gmail.com'\n",
    "        \n",
    "    def fullname (self):\n",
    "        return '{} {}'.format(self.first, self.last)\n",
    "    \n",
    "    def apply_raise(self):\n",
    "        self.marks = int(self.marks *1.05) # int is integer\n",
    "    \n",
    "    \n",
    "Std_1 = Student('Wazir', 'Laghari', 60)\n",
    "Std_2 = Student('Ali', 'Laghari', 90)\n",
    "\n",
    "print(Std_1.marks)\n",
    "Std_1.apply_raise() #Std_1 instance, dot name of method and print finalmarks\n",
    "print(Std_1.marks) # so earlier 60 % after 5 % increase it has score 63 %\n",
    "\n",
    "print(Std_2.marks)\n",
    "Std_2.apply_raise() #Std_1 instance, dot name of method and print finalmarks\n",
    "print(Std_2.marks) # so earlier 90 % after 5 % increase it has score 94 %\n",
    "print(Std_1.__dict__)\n",
    "print(Std_2.__dict__)"
   ]
  },
  {
   "cell_type": "code",
   "execution_count": 23,
   "metadata": {},
   "outputs": [
    {
     "name": "stdout",
     "output_type": "stream",
     "text": [
      "{'__module__': '__main__', 'perc_rise': 1.05, '__init__': <function Student.__init__ at 0x000000FFB63FB6A8>, 'fullname': <function Student.fullname at 0x000000FFB63FB2F0>, 'apply_raise': <function Student.apply_raise at 0x000000FFB63FB400>, '__dict__': <attribute '__dict__' of 'Student' objects>, '__weakref__': <attribute '__weakref__' of 'Student' objects>, '__doc__': None}\n"
     ]
    }
   ],
   "source": [
    "# NOW I WANT TO PRINT THE DICTIONARY OF STUDENT 2\n",
    "#EVERY STUDENT RISE 5 PERCENTAGE EVERY YEAR SO WE DEFINE ONE MORE METHOD\n",
    "#HERE\n",
    "class Student:\n",
    "    perc_rise = 1.05 # percentage increase 5%\n",
    "    \n",
    "    def __init__(self, first, last, marks):  # self is nothing but instances\n",
    "        self.first = first\n",
    "        self.last  = last\n",
    "        self.marks = marks\n",
    "        self.email = first + '.' + last + '@gmail.com'\n",
    "        \n",
    "    def fullname (self):\n",
    "        return '{} {}'.format(self.first, self.last)\n",
    "    \n",
    "    def apply_raise(self):\n",
    "        self.marks = int(self.marks *1.05) # int is integer\n",
    "    \n",
    "    \n",
    "Std_1 = Student('Wazir', 'Laghari', 60)\n",
    "Std_2 = Student('Ali', 'Laghari', 90)\n",
    "\n",
    "#print(Std_1.marks)\n",
    "#Std_1.apply_raise() #Std_1 instance, dot name of method and print finalmarks\n",
    "#print(Std_1.marks) # so earlier 60 % after 5 % increase it has score 63 %\n",
    "\n",
    "#print(Std_2.marks)\n",
    "#Std_2.apply_raise() #Std_1 instance, dot name of method and print finalmarks\n",
    "#print(Std_2.marks) # so earlier 90 % after 5 % increase it has score 94 %\n",
    "#print(Std_1.__dict__)\n",
    "#print(Std_2.__dict__)\n",
    "print(Student.__dict__)"
   ]
  },
  {
   "cell_type": "code",
   "execution_count": 27,
   "metadata": {},
   "outputs": [
    {
     "name": "stdout",
     "output_type": "stream",
     "text": [
      "Neel.Verma@gmail.com\n"
     ]
    }
   ],
   "source": [
    "#NOW I WANT TO CREATE SUPER AND SUBCLASS, mainly student class is a super class\n",
    "#in student class i create another sub class called as Dumb , so\n",
    "#class Dumb (Student): means super class is Student and subclass is Dumb\n",
    "class Student:      #SUPER CLASS\n",
    "    perc_rise = 1.05 # percentage increase 5%\n",
    "    \n",
    "    def __init__(self, first, last, marks):  # self is nothing but instances\n",
    "        self.first = first\n",
    "        self.last  = last\n",
    "        self.marks = marks\n",
    "        self.email = first + '.' + last + '@gmail.com'\n",
    "        \n",
    "    def fullname (self):\n",
    "        return '{} {}'.format(self.first, self.last)\n",
    "    \n",
    "    def apply_raise(self):\n",
    "        self.marks = int(self.marks *1.05) # int is integer\n",
    "        \n",
    "class Dumb (Student): # so in my Dumb class i can not define any method or any\n",
    "    # attribute\n",
    "    pass\n",
    "Std_1 = Dumb('Neel', 'Verma', 60)\n",
    "print(Std_1.email) # so Dumb student email is printed"
   ]
  },
  {
   "cell_type": "code",
   "execution_count": 32,
   "metadata": {},
   "outputs": [
    {
     "name": "stdout",
     "output_type": "stream",
     "text": [
      "Neel.Verma@gmail.com\n",
      "Help on class Dumb in module __main__:\n",
      "\n",
      "class Dumb(Student)\n",
      " |  Method resolution order:\n",
      " |      Dumb\n",
      " |      Student\n",
      " |      builtins.object\n",
      " |  \n",
      " |  Methods inherited from Student:\n",
      " |  \n",
      " |  __init__(self, first, last, marks)\n",
      " |      Initialize self.  See help(type(self)) for accurate signature.\n",
      " |  \n",
      " |  apply_raise(self)\n",
      " |  \n",
      " |  fullname(self)\n",
      " |  \n",
      " |  ----------------------------------------------------------------------\n",
      " |  Data descriptors inherited from Student:\n",
      " |  \n",
      " |  __dict__\n",
      " |      dictionary for instance variables (if defined)\n",
      " |  \n",
      " |  __weakref__\n",
      " |      list of weak references to the object (if defined)\n",
      " |  \n",
      " |  ----------------------------------------------------------------------\n",
      " |  Data and other attributes inherited from Student:\n",
      " |  \n",
      " |  perc_rise = 1.05\n",
      "\n",
      "None\n"
     ]
    }
   ],
   "source": [
    "#NOW I WANT TO CREATE SUPER AND SUBCLASS, mainly student class is a super class\n",
    "#in student class i create another sub class called as Dumb , so\n",
    "#class Dumb (Student): means super class is Student and subclass is Dumb\n",
    "class Student:      #SUPER CLASS\n",
    "    perc_rise = 1.05 # percentage increase 5%\n",
    "    \n",
    "    def __init__(self, first, last, marks):  # self is nothing but instances\n",
    "        self.first = first\n",
    "        self.last  = last\n",
    "        self.marks = marks\n",
    "        self.email = first + '.' + last + '@gmail.com'\n",
    "        \n",
    "    def fullname (self):\n",
    "        return '{} {}'.format(self.first, self.last)\n",
    "    \n",
    "    def apply_raise(self):\n",
    "        self.marks = int(self.marks *1.05) # int is integer\n",
    "        \n",
    "class Dumb (Student): # so in my Dumb class i can not define any method or any\n",
    "    # attribute\n",
    "    pass\n",
    "Std_1 = Dumb('Neel', 'Verma', 60)\n",
    "print(Std_1.email) # so Dumb student email is printed\n",
    "print(help(Dumb)) # through this technique we se order of sub and super class\n",
    "#Method resolution order says sub class is Dumb and it take from super/main\n",
    "#class is Student\n",
    "#so for init method it first look at Dumb class for the init method after \n",
    "#that it look the base class that is Student and finally look the object class"
   ]
  },
  {
   "cell_type": "code",
   "execution_count": 34,
   "metadata": {},
   "outputs": [
    {
     "name": "stdout",
     "output_type": "stream",
     "text": [
      "1.1\n"
     ]
    }
   ],
   "source": [
    "#NOW I WANT TO CREATE SUPER AND SUBCLASS, mainly student class is a super class\n",
    "#in student class i create another sub class called as Dumb , so\n",
    "#class Dumb (Student): means super class is Student and subclass is Dumb\n",
    "class Student:      #SUPER CLASS\n",
    "    perc_rise = 1.05 # percentage increase 5%\n",
    "    \n",
    "    def __init__(self, first, last, marks):  # self is nothing but instances\n",
    "        self.first = first\n",
    "        self.last  = last\n",
    "        self.marks = marks\n",
    "        self.email = first + '.' + last + '@gmail.com'\n",
    "        \n",
    "    def fullname (self):\n",
    "        return '{} {}'.format(self.first, self.last)\n",
    "    \n",
    "    def apply_raise(self):\n",
    "        self.marks = int(self.marks *1.05) # int is integer\n",
    "        \n",
    "class Dumb (Student): # so in my Dumb class i can not define any method or any\n",
    "    # attribute\n",
    "    perc_rise = 1.10\n",
    "Std_1 = Dumb('Neel', 'Verma', 60)\n",
    "print(Std_1.perc_rise) # so Dumb student email is printed"
   ]
  },
  {
   "cell_type": "code",
   "execution_count": 35,
   "metadata": {},
   "outputs": [],
   "source": [
    "def cube(x):\n",
    "    return x**3\n"
   ]
  },
  {
   "cell_type": "code",
   "execution_count": 36,
   "metadata": {},
   "outputs": [
    {
     "data": {
      "text/plain": [
       "27"
      ]
     },
     "execution_count": 36,
     "metadata": {},
     "output_type": "execute_result"
    }
   ],
   "source": [
    "cube(3)"
   ]
  },
  {
   "cell_type": "code",
   "execution_count": 37,
   "metadata": {},
   "outputs": [
    {
     "data": {
      "text/plain": [
       "125"
      ]
     },
     "execution_count": 37,
     "metadata": {},
     "output_type": "execute_result"
    }
   ],
   "source": [
    "cube(5)"
   ]
  },
  {
   "cell_type": "code",
   "execution_count": 41,
   "metadata": {},
   "outputs": [],
   "source": [
    "def square(x):\n",
    "    return x**3\n"
   ]
  },
  {
   "cell_type": "code",
   "execution_count": 42,
   "metadata": {},
   "outputs": [
    {
     "data": {
      "text/plain": [
       "8"
      ]
     },
     "execution_count": 42,
     "metadata": {},
     "output_type": "execute_result"
    }
   ],
   "source": [
    "square(2)"
   ]
  },
  {
   "cell_type": "code",
   "execution_count": 44,
   "metadata": {},
   "outputs": [
    {
     "name": "stdout",
     "output_type": "stream",
     "text": [
      "5\n"
     ]
    }
   ],
   "source": [
    "\"\"\"\n",
    "ssssssssssssssssss\n",
    "\"\"\"\n",
    "a=2\n",
    "b=3\n",
    "c=a+b\n",
    "print(c)"
   ]
  },
  {
   "cell_type": "code",
   "execution_count": null,
   "metadata": {},
   "outputs": [],
   "source": []
  }
 ],
 "metadata": {
  "kernelspec": {
   "display_name": "Python 3",
   "language": "python",
   "name": "python3"
  },
  "language_info": {
   "codemirror_mode": {
    "name": "ipython",
    "version": 3
   },
   "file_extension": ".py",
   "mimetype": "text/x-python",
   "name": "python",
   "nbconvert_exporter": "python",
   "pygments_lexer": "ipython3",
   "version": "3.6.4"
  }
 },
 "nbformat": 4,
 "nbformat_minor": 2
}
