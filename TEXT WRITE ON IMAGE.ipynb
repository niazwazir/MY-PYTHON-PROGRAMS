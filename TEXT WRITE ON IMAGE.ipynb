{
 "cells": [
  {
   "cell_type": "code",
   "execution_count": 5,
   "metadata": {},
   "outputs": [],
   "source": [
    "##HOW TO WRITE TEXT ON IMAGE\n",
    "#FROM SENDEX \n",
    "#Loading Video Source-OpenCV with Python for Image and Video Analysis3\n",
    "import numpy as np\n",
    "import cv2\n",
    "img = cv2.imread('/home/wazir/SRGAN/zebra.bmp', cv2.IMREAD_COLOR)\n",
    "font = cv2.FONT_HERSHEY_SIMPLEX\n",
    "cv2.putText(img, 'SINDHI ZEBRA', (0,130), font, 5, (20,25,255),5,cv2.LINE_AA)\n",
    "#starting text 0, 130 and font of size is 1 and then color or mixture of colors 5 is the thickness\n",
    "#LINE ANTI ALIASING\n",
    "cv2.imshow('image',img)\n",
    "cv2.waitKey(0)\n",
    "cv2.destroyAllWindows()"
   ]
  },
  {
   "cell_type": "code",
   "execution_count": null,
   "metadata": {},
   "outputs": [],
   "source": []
  }
 ],
 "metadata": {
  "kernelspec": {
   "display_name": "Python 3",
   "language": "python",
   "name": "python3"
  },
  "language_info": {
   "codemirror_mode": {
    "name": "ipython",
    "version": 3
   },
   "file_extension": ".py",
   "mimetype": "text/x-python",
   "name": "python",
   "nbconvert_exporter": "python",
   "pygments_lexer": "ipython3",
   "version": "3.5.2"
  }
 },
 "nbformat": 4,
 "nbformat_minor": 2
}
