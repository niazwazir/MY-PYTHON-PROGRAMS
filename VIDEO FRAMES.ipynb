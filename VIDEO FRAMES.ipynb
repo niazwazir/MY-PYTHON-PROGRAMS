{
 "cells": [
  {
   "cell_type": "code",
   "execution_count": null,
   "metadata": {},
   "outputs": [],
   "source": [
    "#READ THE VIDEO FRAME OF RGB COLOR\n",
    "import numpy as np\n",
    "import cv2\n",
    "# cap equal to videocapture zero , zero means you system or lap top web cam\n",
    "#if other web cam you put 1\n",
    "cap = cv2.VideoCapture(0)\n",
    " #while is true go infinite loop going on on and on,\n",
    "    #then return frame is equal to cap dot read \n",
    "while(True):\n",
    "    ret, frame = cap.read()\n",
    "   \n",
    " \n",
    "    cv2.imshow('frame',frame)\n",
    "    if cv2.waitKey(1) & 0xFF == ord('q'): # if cv2 waitkey 1 and so key equal to q we want to break the loop to exit\n",
    "        break\n",
    "\n",
    "cap.release() # release the capture of camera\n",
    "cv2.destroyAllWindows()"
   ]
  },
  {
   "cell_type": "code",
   "execution_count": null,
   "metadata": {},
   "outputs": [],
   "source": [
    "#READ THE VIDEO FRAME IN GRAY COLOR\n",
    "import numpy as np\n",
    "import cv2\n",
    "# cap equal to videocapture zero , zero means you system or lap top web cam\n",
    "#if other web cam you put 1\n",
    "cap = cv2.VideoCapture(0)\n",
    " #if while is true go infinite loop going on on and on,\n",
    "    #then return frame is equal to cap dot read \n",
    "while(True):\n",
    "    ret, frame = cap.read()\n",
    "    gray = cv2.cvtColor(frame, cv2.COLOR_BGR2GRAY)\n",
    " \n",
    "    cv2.imshow('frame',gray)\n",
    "    if cv2.waitKey(1) & 0xFF == ord('q'): # if cv2 waitkey 1 and so key equal to q we want to break the loop\n",
    "        break\n",
    "\n",
    "cap.release()\n",
    "cv2.destroyAllWindows()"
   ]
  },
  {
   "cell_type": "code",
   "execution_count": 1,
   "metadata": {},
   "outputs": [],
   "source": [
    "#SHOW TWO VIDEO FRAMES\n",
    "import numpy as np\n",
    "import cv2\n",
    "# cap equal to videocapture zero , zero means you system or lap top web cam\n",
    "#if other web cam you put 1\n",
    "cap = cv2.VideoCapture(0)\n",
    " #if while is true go infinite loop going on on and on,\n",
    "    #then return frame is equal to cap dot read \n",
    "while(True):\n",
    "    ret, frame = cap.read()\n",
    "    gray = cv2.cvtColor(frame, cv2.COLOR_BGR2GRAY)\n",
    "    \n",
    "    cv2.imshow('frame',frame) \n",
    "    cv2.imshow('gray',gray)\n",
    "   \n",
    "    \n",
    "    if cv2.waitKey(1) & 0xFF == ord('q'): # if cv2 waitkey 1 and so key equal to q we want to break the loop\n",
    "        break\n",
    "\n",
    "cap.release()\n",
    "cv2.destroyAllWindows()\n",
    "\n",
    "\n"
   ]
  },
  {
   "cell_type": "code",
   "execution_count": null,
   "metadata": {},
   "outputs": [],
   "source": []
  }
 ],
 "metadata": {
  "kernelspec": {
   "display_name": "Python 3",
   "language": "python",
   "name": "python3"
  },
  "language_info": {
   "codemirror_mode": {
    "name": "ipython",
    "version": 3
   },
   "file_extension": ".py",
   "mimetype": "text/x-python",
   "name": "python",
   "nbconvert_exporter": "python",
   "pygments_lexer": "ipython3",
   "version": "3.5.2"
  }
 },
 "nbformat": 4,
 "nbformat_minor": 2
}
