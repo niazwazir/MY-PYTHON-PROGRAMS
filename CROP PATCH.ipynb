{
 "cells": [
  {
   "cell_type": "code",
   "execution_count": 1,
   "metadata": {},
   "outputs": [],
   "source": [
    "##HOW TO CUT /CROP SOME PART IMAGE\n",
    "#FROM SENDEX \n",
    "#Loading Video Source-OpenCV with Python for Image and Video Analysis4\n",
    "import numpy as np\n",
    "import cv2\n",
    "img = cv2.imread('/home/wazir/SRGAN/zebra.bmp', cv2.IMREAD_COLOR)\n",
    "img[55,55] = [255,255,255]\n",
    "px = img[55,55]\n",
    "\n",
    "img[100:150, 100:150] = [255,255,255]\n",
    "\n",
    "horse = img[37:111, 107:194]\n",
    "img[0:74, 0:87] = horse\n",
    "\n",
    "cv2.imshow('image',img)\n",
    "cv2.waitKey(0)\n",
    "cv2.destroyAllWindows()"
   ]
  },
  {
   "cell_type": "code",
   "execution_count": null,
   "metadata": {},
   "outputs": [],
   "source": []
  }
 ],
 "metadata": {
  "kernelspec": {
   "display_name": "Python 3",
   "language": "python",
   "name": "python3"
  },
  "language_info": {
   "codemirror_mode": {
    "name": "ipython",
    "version": 3
   },
   "file_extension": ".py",
   "mimetype": "text/x-python",
   "name": "python",
   "nbconvert_exporter": "python",
   "pygments_lexer": "ipython3",
   "version": "3.5.2"
  }
 },
 "nbformat": 4,
 "nbformat_minor": 2
}
