{
 "cells": [
  {
   "cell_type": "markdown",
   "metadata": {},
   "source": [
    "# import os\n",
    "files = os.listdir(path)"
   ]
  },
  {
   "cell_type": "code",
   "execution_count": 1,
   "metadata": {},
   "outputs": [
    {
     "data": {
      "text/plain": [
       "['khan.jpg',\n",
       " 'maya.jpg',\n",
       " 'MyPsnr.m',\n",
       " 'New folder',\n",
       " 'Wienefilter.m',\n",
       " 'wiener filter.txt']"
      ]
     },
     "execution_count": 1,
     "metadata": {},
     "output_type": "execute_result"
    }
   ],
   "source": [
    "import os \n",
    "os.listdir(\"C:/Users/Stylish Computer/Desktop/wiener filter\")"
   ]
  },
  {
   "cell_type": "code",
   "execution_count": 2,
   "metadata": {},
   "outputs": [
    {
     "name": "stdout",
     "output_type": "stream",
     "text": [
      "['khan.jpg', 'maya.jpg', 'MyPsnr.m', 'New folder', 'Wienefilter.m', 'wiener filter.txt']\n"
     ]
    }
   ],
   "source": [
    "import os \n",
    "files = os.listdir(\"C:/Users/Stylish Computer/Desktop/wiener filter\")\n",
    "print(files)"
   ]
  },
  {
   "cell_type": "markdown",
   "metadata": {},
   "source": [
    "# import random"
   ]
  },
  {
   "cell_type": "code",
   "execution_count": 3,
   "metadata": {},
   "outputs": [
    {
     "name": "stdout",
     "output_type": "stream",
     "text": [
      "8\n",
      "10\n",
      "4\n",
      "10\n",
      "6\n"
     ]
    }
   ],
   "source": [
    "import random\n",
    "for x in range(5):\n",
    "    print (random.randint(1,10))"
   ]
  },
  {
   "cell_type": "markdown",
   "metadata": {},
   "source": [
    "# import time"
   ]
  },
  {
   "cell_type": "code",
   "execution_count": 4,
   "metadata": {},
   "outputs": [
    {
     "name": "stdout",
     "output_type": "stream",
     "text": [
      "Hello World\n"
     ]
    }
   ],
   "source": [
    "import time\n",
    "time.sleep(7) # after seven second Hello World is Printout\n",
    "print('Hello World')"
   ]
  },
  {
   "cell_type": "code",
   "execution_count": 5,
   "metadata": {},
   "outputs": [
    {
     "name": "stdout",
     "output_type": "stream",
     "text": [
      "2017-02-22\n"
     ]
    }
   ],
   "source": [
    "import datetime\n",
    "d = datetime.date(2017, 2, 22) #but we can not use 02 in monthd as well asin date \n",
    "print(d)"
   ]
  },
  {
   "cell_type": "code",
   "execution_count": 6,
   "metadata": {},
   "outputs": [
    {
     "name": "stdout",
     "output_type": "stream",
     "text": [
      "2018-04-16\n"
     ]
    }
   ],
   "source": [
    "#print the current date today\n",
    "import time\n",
    "d = datetime.date.today() #but we can not use 02 in monthd as well asin date \n",
    "print(d)"
   ]
  },
  {
   "cell_type": "code",
   "execution_count": 8,
   "metadata": {},
   "outputs": [
    {
     "name": "stdout",
     "output_type": "stream",
     "text": [
      "    October 1971\n",
      "Mo Tu We Th Fr Sa Su\n",
      "             1  2  3\n",
      " 4  5  6  7  8  9 10\n",
      "11 12 13 14 15 16 17\n",
      "18 19 20 21 22 23 24\n",
      "25 26 27 28 29 30 31\n",
      "\n"
     ]
    }
   ],
   "source": [
    "import calendar\n",
    "print(calendar.month(1971,10))"
   ]
  },
  {
   "cell_type": "code",
   "execution_count": 12,
   "metadata": {},
   "outputs": [
    {
     "name": "stdout",
     "output_type": "stream",
     "text": [
      "                                      1971\n",
      "\n",
      "      January                       February                       March\n",
      "Mo Tu We Th Fr Sa Su          Mo Tu We Th Fr Sa Su          Mo Tu We Th Fr Sa Su\n",
      "             1  2  3           1  2  3  4  5  6  7           1  2  3  4  5  6  7\n",
      " 4  5  6  7  8  9 10           8  9 10 11 12 13 14           8  9 10 11 12 13 14\n",
      "11 12 13 14 15 16 17          15 16 17 18 19 20 21          15 16 17 18 19 20 21\n",
      "18 19 20 21 22 23 24          22 23 24 25 26 27 28          22 23 24 25 26 27 28\n",
      "25 26 27 28 29 30 31                                        29 30 31\n",
      "\n",
      "       April                          May                           June\n",
      "Mo Tu We Th Fr Sa Su          Mo Tu We Th Fr Sa Su          Mo Tu We Th Fr Sa Su\n",
      "          1  2  3  4                          1  2              1  2  3  4  5  6\n",
      " 5  6  7  8  9 10 11           3  4  5  6  7  8  9           7  8  9 10 11 12 13\n",
      "12 13 14 15 16 17 18          10 11 12 13 14 15 16          14 15 16 17 18 19 20\n",
      "19 20 21 22 23 24 25          17 18 19 20 21 22 23          21 22 23 24 25 26 27\n",
      "26 27 28 29 30                24 25 26 27 28 29 30          28 29 30\n",
      "                              31\n",
      "\n",
      "        July                         August                      September\n",
      "Mo Tu We Th Fr Sa Su          Mo Tu We Th Fr Sa Su          Mo Tu We Th Fr Sa Su\n",
      "          1  2  3  4                             1                 1  2  3  4  5\n",
      " 5  6  7  8  9 10 11           2  3  4  5  6  7  8           6  7  8  9 10 11 12\n",
      "12 13 14 15 16 17 18           9 10 11 12 13 14 15          13 14 15 16 17 18 19\n",
      "19 20 21 22 23 24 25          16 17 18 19 20 21 22          20 21 22 23 24 25 26\n",
      "26 27 28 29 30 31             23 24 25 26 27 28 29          27 28 29 30\n",
      "                              30 31\n",
      "\n",
      "      October                       November                      December\n",
      "Mo Tu We Th Fr Sa Su          Mo Tu We Th Fr Sa Su          Mo Tu We Th Fr Sa Su\n",
      "             1  2  3           1  2  3  4  5  6  7                 1  2  3  4  5\n",
      " 4  5  6  7  8  9 10           8  9 10 11 12 13 14           6  7  8  9 10 11 12\n",
      "11 12 13 14 15 16 17          15 16 17 18 19 20 21          13 14 15 16 17 18 19\n",
      "18 19 20 21 22 23 24          22 23 24 25 26 27 28          20 21 22 23 24 25 26\n",
      "25 26 27 28 29 30 31          29 30                         27 28 29 30 31\n",
      "\n"
     ]
    }
   ],
   "source": [
    "import calendar\n",
    "print(calendar.calendar(1971,2,1,10))"
   ]
  },
  {
   "cell_type": "markdown",
   "metadata": {},
   "source": [
    "# import numpy as np"
   ]
  },
  {
   "cell_type": "code",
   "execution_count": 15,
   "metadata": {},
   "outputs": [
    {
     "name": "stdout",
     "output_type": "stream",
     "text": [
      "[1 2 3]\n"
     ]
    }
   ],
   "source": [
    "import numpy as np\n",
    "a = np.array([1, 2, 3])   # Create a rank 1 array\n",
    "print(a)"
   ]
  },
  {
   "cell_type": "code",
   "execution_count": null,
   "metadata": {},
   "outputs": [],
   "source": []
  }
 ],
 "metadata": {
  "kernelspec": {
   "display_name": "Python 3",
   "language": "python",
   "name": "python3"
  },
  "language_info": {
   "codemirror_mode": {
    "name": "ipython",
    "version": 3
   },
   "file_extension": ".py",
   "mimetype": "text/x-python",
   "name": "python",
   "nbconvert_exporter": "python",
   "pygments_lexer": "ipython3",
   "version": "3.6.4"
  }
 },
 "nbformat": 4,
 "nbformat_minor": 2
}
