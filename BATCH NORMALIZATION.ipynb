{
 "cells": [
  {
   "cell_type": "code",
   "execution_count": 1,
   "metadata": {},
   "outputs": [
    {
     "name": "stderr",
     "output_type": "stream",
     "text": [
      "/home/wazir/.virtualenvs/wazir/lib/python3.5/site-packages/h5py/__init__.py:36: FutureWarning: Conversion of the second argument of issubdtype from `float` to `np.floating` is deprecated. In future, it will be treated as `np.float64 == np.dtype(float).type`.\n",
      "  from ._conv import register_converters as _register_converters\n",
      "Using TensorFlow backend.\n"
     ]
    }
   ],
   "source": [
    "import numpy as np\n",
    "from keras import layers\n",
    "from keras.layers import Input, Dense, Activation, ZeroPadding2D, BatchNormalization, Flatten, Conv2D\n",
    "from keras.layers import AveragePooling2D, MaxPooling2D, Dropout, GlobalMaxPooling2D, GlobalAveragePooling2D\n",
    "from keras.models import Model\n",
    "from keras.preprocessing import image\n",
    "from keras.utils import layer_utils\n",
    "from keras.utils.data_utils import get_file\n",
    "from keras.applications.imagenet_utils import preprocess_input\n",
    "from keras.utils.vis_utils import model_to_dot\n",
    "from keras.utils import plot_model\n",
    "import keras.backend as K\n",
    "import matplotlib.pyplot as plt\n",
    "from matplotlib.pyplot import imshow"
   ]
  },
  {
   "cell_type": "code",
   "execution_count": 2,
   "metadata": {},
   "outputs": [],
   "source": [
    "from keras.models import load_model\n",
    "from keras.models import Sequential, Model\n",
    "from keras.layers import Dense, Activation\n",
    "from keras.layers import Conv2D, MaxPooling2D, Input, Merge, ZeroPadding2D, merge\n",
    "from keras.preprocessing import image\n",
    "from scipy.misc import imsave, imread, imresize, toimage\n",
    "import numpy as np\n",
    "import matplotlib.pyplot as plt\n",
    "\n",
    "from keras.layers import Input, Dense\n",
    "from keras.models import Model\n",
    "import numpy as np\n",
    "import keras\n",
    "from keras.models import Sequential\n",
    "from keras.layers import Dense, Flatten\n",
    "from keras.layers import Conv2D, MaxPooling2D\n",
    "from keras.optimizers import SGD\n",
    "from keras.utils.data_utils import get_file\n",
    "from IPython.display import SVG\n",
    "from keras.utils.vis_utils import model_to_dot\n",
    "from keras.utils import plot_model"
   ]
  },
  {
   "cell_type": "code",
   "execution_count": 3,
   "metadata": {},
   "outputs": [
    {
     "data": {
      "image/png": "[encoded data removed]",
      "text/plain": [
       "<IPython.core.display.Image object>"
      ]
     },
     "execution_count": 3,
     "metadata": {},
     "output_type": "execute_result"
    }
   ],
   "source": [
    "from IPython.display import Image\n",
    "Image('VDSR.png')"
   ]
  },
  {
   "cell_type": "code",
   "execution_count": 4,
   "metadata": {},
   "outputs": [],
   "source": [
    "input_shape = (64,64,3) #IMAGE PATCH SIZE IS 41 BY 41\n",
    "#input_img = Input(shape=input_shape)\n",
    "X_input = Input(input_shape)\n",
    "# Zero-Padding: pads the border of X_input with zeroes\n",
    "X = ZeroPadding2D((3, 3))(X_input)"
   ]
  },
  {
   "cell_type": "code",
   "execution_count": 5,
   "metadata": {},
   "outputs": [
    {
     "name": "stdout",
     "output_type": "stream",
     "text": [
      "_________________________________________________________________\n",
      "Layer (type)                 Output Shape              Param #   \n",
      "=================================================================\n",
      "input_1 (InputLayer)         (None, 64, 64, 3)         0         \n",
      "_________________________________________________________________\n",
      "zero_padding2d_1 (ZeroPaddin (None, 70, 70, 3)         0         \n",
      "_________________________________________________________________\n",
      "conv0 (Conv2D)               (None, 64, 64, 32)        4736      \n",
      "_________________________________________________________________\n",
      "bn0 (BatchNormalization)     (None, 64, 64, 32)        128       \n",
      "_________________________________________________________________\n",
      "activation_1 (Activation)    (None, 64, 64, 32)        0         \n",
      "_________________________________________________________________\n",
      "max_pool (MaxPooling2D)      (None, 32, 32, 32)        0         \n",
      "_________________________________________________________________\n",
      "flatten_1 (Flatten)          (None, 32768)             0         \n",
      "_________________________________________________________________\n",
      "fc (Dense)                   (None, 1)                 32769     \n",
      "=================================================================\n",
      "Total params: 37,633\n",
      "Trainable params: 37,569\n",
      "Non-trainable params: 64\n",
      "_________________________________________________________________\n"
     ]
    }
   ],
   "source": [
    "# CONV -> BN -> RELU Block applied to X\n",
    "X = Conv2D(32, (7, 7), strides = (1, 1), name = 'conv0')(X)\n",
    "X = BatchNormalization(axis = 3, name = 'bn0')(X)\n",
    "X = Activation('relu')(X)\n",
    "\n",
    "# MAXPOOL\n",
    "X = MaxPooling2D((2, 2), name='max_pool')(X)\n",
    "\n",
    "# FLATTEN X (means convert it to a vector) + FULLYCONNECTED\n",
    "X = Flatten()(X)\n",
    "X = Dense(1, activation='sigmoid', name='fc')(X)\n",
    "\n",
    "# Create model. This creates our Keras model instance, you’ll use this \n",
    "model = Model(inputs = X_input, outputs = X, name='HappyModel')\n",
    "\n",
    "model.summary()"
   ]
  },
  {
   "cell_type": "code",
   "execution_count": 6,
   "metadata": {},
   "outputs": [
    {
     "data": {
      "image/svg+xml": [
       "<svg height=\"636pt\" viewBox=\"0.00 0.00 385.00 636.00\" width=\"385pt\" xmlns=\"http://www.w3.org/2000/svg\" xmlns:xlink=\"http://www.w3.org/1999/xlink\">\n",
       "<g class=\"graph\" id=\"graph0\" transform=\"scale(1 1) rotate(0) translate(4 632)\">\n",
       "<title>G</title>\n",
       "<polygon fill=\"white\" points=\"-4,4 -4,-632 381,-632 381,4 -4,4\" stroke=\"none\"/>\n",
       "<!-- 140678596542648 -->\n",
       "<g class=\"node\" id=\"node1\"><title>140678596542648</title>\n",
       "<polygon fill=\"none\" points=\"43,-581.5 43,-627.5 334,-627.5 334,-581.5 43,-581.5\" stroke=\"black\"/>\n",
       "<text font-family=\"Times,serif\" font-size=\"14.00\" text-anchor=\"middle\" x=\"105.5\" y=\"-600.8\">input_1: InputLayer</text>\n",
       "<polyline fill=\"none\" points=\"168,-581.5 168,-627.5 \" stroke=\"black\"/>\n",
       "<text font-family=\"Times,serif\" font-size=\"14.00\" text-anchor=\"middle\" x=\"195.5\" y=\"-612.3\">input:</text>\n",
       "<polyline fill=\"none\" points=\"168,-604.5 223,-604.5 \" stroke=\"black\"/>\n",
       "<text font-family=\"Times,serif\" font-size=\"14.00\" text-anchor=\"middle\" x=\"195.5\" y=\"-589.3\">output:</text>\n",
       "<polyline fill=\"none\" points=\"223,-581.5 223,-627.5 \" stroke=\"black\"/>\n",
       "<text font-family=\"Times,serif\" font-size=\"14.00\" text-anchor=\"middle\" x=\"278.5\" y=\"-612.3\">(None, 64, 64, 3)</text>\n",
       "<polyline fill=\"none\" points=\"223,-604.5 334,-604.5 \" stroke=\"black\"/>\n",
       "<text font-family=\"Times,serif\" font-size=\"14.00\" text-anchor=\"middle\" x=\"278.5\" y=\"-589.3\">(None, 64, 64, 3)</text>\n",
       "</g>\n",
       "<!-- 140678596542760 -->\n",
       "<g class=\"node\" id=\"node2\"><title>140678596542760</title>\n",
       "<polygon fill=\"none\" points=\"0,-498.5 0,-544.5 377,-544.5 377,-498.5 0,-498.5\" stroke=\"black\"/>\n",
       "<text font-family=\"Times,serif\" font-size=\"14.00\" text-anchor=\"middle\" x=\"105.5\" y=\"-517.8\">zero_padding2d_1: ZeroPadding2D</text>\n",
       "<polyline fill=\"none\" points=\"211,-498.5 211,-544.5 \" stroke=\"black\"/>\n",
       "<text font-family=\"Times,serif\" font-size=\"14.00\" text-anchor=\"middle\" x=\"238.5\" y=\"-529.3\">input:</text>\n",
       "<polyline fill=\"none\" points=\"211,-521.5 266,-521.5 \" stroke=\"black\"/>\n",
       "<text font-family=\"Times,serif\" font-size=\"14.00\" text-anchor=\"middle\" x=\"238.5\" y=\"-506.3\">output:</text>\n",
       "<polyline fill=\"none\" points=\"266,-498.5 266,-544.5 \" stroke=\"black\"/>\n",
       "<text font-family=\"Times,serif\" font-size=\"14.00\" text-anchor=\"middle\" x=\"321.5\" y=\"-529.3\">(None, 64, 64, 3)</text>\n",
       "<polyline fill=\"none\" points=\"266,-521.5 377,-521.5 \" stroke=\"black\"/>\n",
       "<text font-family=\"Times,serif\" font-size=\"14.00\" text-anchor=\"middle\" x=\"321.5\" y=\"-506.3\">(None, 70, 70, 3)</text>\n",
       "</g>\n",
       "<!-- 140678596542648&#45;&gt;140678596542760 -->\n",
       "<g class=\"edge\" id=\"edge1\"><title>140678596542648-&gt;140678596542760</title>\n",
       "<path d=\"M188.5,-581.366C188.5,-573.152 188.5,-563.658 188.5,-554.725\" fill=\"none\" stroke=\"black\"/>\n",
       "<polygon fill=\"black\" points=\"192,-554.607 188.5,-544.607 185,-554.607 192,-554.607\" stroke=\"black\"/>\n",
       "</g>\n",
       "<!-- 140678596679216 -->\n",
       "<g class=\"node\" id=\"node3\"><title>140678596679216</title>\n",
       "<polygon fill=\"none\" points=\"50.5,-415.5 50.5,-461.5 326.5,-461.5 326.5,-415.5 50.5,-415.5\" stroke=\"black\"/>\n",
       "<text font-family=\"Times,serif\" font-size=\"14.00\" text-anchor=\"middle\" x=\"102\" y=\"-434.8\">conv0: Conv2D</text>\n",
       "<polyline fill=\"none\" points=\"153.5,-415.5 153.5,-461.5 \" stroke=\"black\"/>\n",
       "<text font-family=\"Times,serif\" font-size=\"14.00\" text-anchor=\"middle\" x=\"181\" y=\"-446.3\">input:</text>\n",
       "<polyline fill=\"none\" points=\"153.5,-438.5 208.5,-438.5 \" stroke=\"black\"/>\n",
       "<text font-family=\"Times,serif\" font-size=\"14.00\" text-anchor=\"middle\" x=\"181\" y=\"-423.3\">output:</text>\n",
       "<polyline fill=\"none\" points=\"208.5,-415.5 208.5,-461.5 \" stroke=\"black\"/>\n",
       "<text font-family=\"Times,serif\" font-size=\"14.00\" text-anchor=\"middle\" x=\"267.5\" y=\"-446.3\">(None, 70, 70, 3)</text>\n",
       "<polyline fill=\"none\" points=\"208.5,-438.5 326.5,-438.5 \" stroke=\"black\"/>\n",
       "<text font-family=\"Times,serif\" font-size=\"14.00\" text-anchor=\"middle\" x=\"267.5\" y=\"-423.3\">(None, 64, 64, 32)</text>\n",
       "</g>\n",
       "<!-- 140678596542760&#45;&gt;140678596679216 -->\n",
       "<g class=\"edge\" id=\"edge2\"><title>140678596542760-&gt;140678596679216</title>\n",
       "<path d=\"M188.5,-498.366C188.5,-490.152 188.5,-480.658 188.5,-471.725\" fill=\"none\" stroke=\"black\"/>\n",
       "<polygon fill=\"black\" points=\"192,-471.607 188.5,-461.607 185,-471.607 192,-471.607\" stroke=\"black\"/>\n",
       "</g>\n",
       "<!-- 140678596679160 -->\n",
       "<g class=\"node\" id=\"node4\"><title>140678596679160</title>\n",
       "<polygon fill=\"none\" points=\"24.5,-332.5 24.5,-378.5 352.5,-378.5 352.5,-332.5 24.5,-332.5\" stroke=\"black\"/>\n",
       "<text font-family=\"Times,serif\" font-size=\"14.00\" text-anchor=\"middle\" x=\"102\" y=\"-351.8\">bn0: BatchNormalization</text>\n",
       "<polyline fill=\"none\" points=\"179.5,-332.5 179.5,-378.5 \" stroke=\"black\"/>\n",
       "<text font-family=\"Times,serif\" font-size=\"14.00\" text-anchor=\"middle\" x=\"207\" y=\"-363.3\">input:</text>\n",
       "<polyline fill=\"none\" points=\"179.5,-355.5 234.5,-355.5 \" stroke=\"black\"/>\n",
       "<text font-family=\"Times,serif\" font-size=\"14.00\" text-anchor=\"middle\" x=\"207\" y=\"-340.3\">output:</text>\n",
       "<polyline fill=\"none\" points=\"234.5,-332.5 234.5,-378.5 \" stroke=\"black\"/>\n",
       "<text font-family=\"Times,serif\" font-size=\"14.00\" text-anchor=\"middle\" x=\"293.5\" y=\"-363.3\">(None, 64, 64, 32)</text>\n",
       "<polyline fill=\"none\" points=\"234.5,-355.5 352.5,-355.5 \" stroke=\"black\"/>\n",
       "<text font-family=\"Times,serif\" font-size=\"14.00\" text-anchor=\"middle\" x=\"293.5\" y=\"-340.3\">(None, 64, 64, 32)</text>\n",
       "</g>\n",
       "<!-- 140678596679216&#45;&gt;140678596679160 -->\n",
       "<g class=\"edge\" id=\"edge3\"><title>140678596679216-&gt;140678596679160</title>\n",
       "<path d=\"M188.5,-415.366C188.5,-407.152 188.5,-397.658 188.5,-388.725\" fill=\"none\" stroke=\"black\"/>\n",
       "<polygon fill=\"black\" points=\"192,-388.607 188.5,-378.607 185,-388.607 192,-388.607\" stroke=\"black\"/>\n",
       "</g>\n",
       "<!-- 140678596679552 -->\n",
       "<g class=\"node\" id=\"node5\"><title>140678596679552</title>\n",
       "<polygon fill=\"none\" points=\"28,-249.5 28,-295.5 349,-295.5 349,-249.5 28,-249.5\" stroke=\"black\"/>\n",
       "<text font-family=\"Times,serif\" font-size=\"14.00\" text-anchor=\"middle\" x=\"102\" y=\"-268.8\">activation_1: Activation</text>\n",
       "<polyline fill=\"none\" points=\"176,-249.5 176,-295.5 \" stroke=\"black\"/>\n",
       "<text font-family=\"Times,serif\" font-size=\"14.00\" text-anchor=\"middle\" x=\"203.5\" y=\"-280.3\">input:</text>\n",
       "<polyline fill=\"none\" points=\"176,-272.5 231,-272.5 \" stroke=\"black\"/>\n",
       "<text font-family=\"Times,serif\" font-size=\"14.00\" text-anchor=\"middle\" x=\"203.5\" y=\"-257.3\">output:</text>\n",
       "<polyline fill=\"none\" points=\"231,-249.5 231,-295.5 \" stroke=\"black\"/>\n",
       "<text font-family=\"Times,serif\" font-size=\"14.00\" text-anchor=\"middle\" x=\"290\" y=\"-280.3\">(None, 64, 64, 32)</text>\n",
       "<polyline fill=\"none\" points=\"231,-272.5 349,-272.5 \" stroke=\"black\"/>\n",
       "<text font-family=\"Times,serif\" font-size=\"14.00\" text-anchor=\"middle\" x=\"290\" y=\"-257.3\">(None, 64, 64, 32)</text>\n",
       "</g>\n",
       "<!-- 140678596679160&#45;&gt;140678596679552 -->\n",
       "<g class=\"edge\" id=\"edge4\"><title>140678596679160-&gt;140678596679552</title>\n",
       "<path d=\"M188.5,-332.366C188.5,-324.152 188.5,-314.658 188.5,-305.725\" fill=\"none\" stroke=\"black\"/>\n",
       "<polygon fill=\"black\" points=\"192,-305.607 188.5,-295.607 185,-305.607 192,-305.607\" stroke=\"black\"/>\n",
       "</g>\n",
       "<!-- 140678596681456 -->\n",
       "<g class=\"node\" id=\"node6\"><title>140678596681456</title>\n",
       "<polygon fill=\"none\" points=\"20.5,-166.5 20.5,-212.5 356.5,-212.5 356.5,-166.5 20.5,-166.5\" stroke=\"black\"/>\n",
       "<text font-family=\"Times,serif\" font-size=\"14.00\" text-anchor=\"middle\" x=\"102\" y=\"-185.8\">max_pool: MaxPooling2D</text>\n",
       "<polyline fill=\"none\" points=\"183.5,-166.5 183.5,-212.5 \" stroke=\"black\"/>\n",
       "<text font-family=\"Times,serif\" font-size=\"14.00\" text-anchor=\"middle\" x=\"211\" y=\"-197.3\">input:</text>\n",
       "<polyline fill=\"none\" points=\"183.5,-189.5 238.5,-189.5 \" stroke=\"black\"/>\n",
       "<text font-family=\"Times,serif\" font-size=\"14.00\" text-anchor=\"middle\" x=\"211\" y=\"-174.3\">output:</text>\n",
       "<polyline fill=\"none\" points=\"238.5,-166.5 238.5,-212.5 \" stroke=\"black\"/>\n",
       "<text font-family=\"Times,serif\" font-size=\"14.00\" text-anchor=\"middle\" x=\"297.5\" y=\"-197.3\">(None, 64, 64, 32)</text>\n",
       "<polyline fill=\"none\" points=\"238.5,-189.5 356.5,-189.5 \" stroke=\"black\"/>\n",
       "<text font-family=\"Times,serif\" font-size=\"14.00\" text-anchor=\"middle\" x=\"297.5\" y=\"-174.3\">(None, 32, 32, 32)</text>\n",
       "</g>\n",
       "<!-- 140678596679552&#45;&gt;140678596681456 -->\n",
       "<g class=\"edge\" id=\"edge5\"><title>140678596679552-&gt;140678596681456</title>\n",
       "<path d=\"M188.5,-249.366C188.5,-241.152 188.5,-231.658 188.5,-222.725\" fill=\"none\" stroke=\"black\"/>\n",
       "<polygon fill=\"black\" points=\"192,-222.607 188.5,-212.607 185,-222.607 192,-222.607\" stroke=\"black\"/>\n",
       "</g>\n",
       "<!-- 140678568661064 -->\n",
       "<g class=\"node\" id=\"node7\"><title>140678568661064</title>\n",
       "<polygon fill=\"none\" points=\"47,-83.5 47,-129.5 330,-129.5 330,-83.5 47,-83.5\" stroke=\"black\"/>\n",
       "<text font-family=\"Times,serif\" font-size=\"14.00\" text-anchor=\"middle\" x=\"102\" y=\"-102.8\">flatten_1: Flatten</text>\n",
       "<polyline fill=\"none\" points=\"157,-83.5 157,-129.5 \" stroke=\"black\"/>\n",
       "<text font-family=\"Times,serif\" font-size=\"14.00\" text-anchor=\"middle\" x=\"184.5\" y=\"-114.3\">input:</text>\n",
       "<polyline fill=\"none\" points=\"157,-106.5 212,-106.5 \" stroke=\"black\"/>\n",
       "<text font-family=\"Times,serif\" font-size=\"14.00\" text-anchor=\"middle\" x=\"184.5\" y=\"-91.3\">output:</text>\n",
       "<polyline fill=\"none\" points=\"212,-83.5 212,-129.5 \" stroke=\"black\"/>\n",
       "<text font-family=\"Times,serif\" font-size=\"14.00\" text-anchor=\"middle\" x=\"271\" y=\"-114.3\">(None, 32, 32, 32)</text>\n",
       "<polyline fill=\"none\" points=\"212,-106.5 330,-106.5 \" stroke=\"black\"/>\n",
       "<text font-family=\"Times,serif\" font-size=\"14.00\" text-anchor=\"middle\" x=\"271\" y=\"-91.3\">(None, 32768)</text>\n",
       "</g>\n",
       "<!-- 140678596681456&#45;&gt;140678568661064 -->\n",
       "<g class=\"edge\" id=\"edge6\"><title>140678596681456-&gt;140678568661064</title>\n",
       "<path d=\"M188.5,-166.366C188.5,-158.152 188.5,-148.658 188.5,-139.725\" fill=\"none\" stroke=\"black\"/>\n",
       "<polygon fill=\"black\" points=\"192,-139.607 188.5,-129.607 185,-139.607 192,-139.607\" stroke=\"black\"/>\n",
       "</g>\n",
       "<!-- 140678568631936 -->\n",
       "<g class=\"node\" id=\"node8\"><title>140678568631936</title>\n",
       "<polygon fill=\"none\" points=\"79,-0.5 79,-46.5 298,-46.5 298,-0.5 79,-0.5\" stroke=\"black\"/>\n",
       "<text font-family=\"Times,serif\" font-size=\"14.00\" text-anchor=\"middle\" x=\"113\" y=\"-19.8\">fc: Dense</text>\n",
       "<polyline fill=\"none\" points=\"147,-0.5 147,-46.5 \" stroke=\"black\"/>\n",
       "<text font-family=\"Times,serif\" font-size=\"14.00\" text-anchor=\"middle\" x=\"174.5\" y=\"-31.3\">input:</text>\n",
       "<polyline fill=\"none\" points=\"147,-23.5 202,-23.5 \" stroke=\"black\"/>\n",
       "<text font-family=\"Times,serif\" font-size=\"14.00\" text-anchor=\"middle\" x=\"174.5\" y=\"-8.3\">output:</text>\n",
       "<polyline fill=\"none\" points=\"202,-0.5 202,-46.5 \" stroke=\"black\"/>\n",
       "<text font-family=\"Times,serif\" font-size=\"14.00\" text-anchor=\"middle\" x=\"250\" y=\"-31.3\">(None, 32768)</text>\n",
       "<polyline fill=\"none\" points=\"202,-23.5 298,-23.5 \" stroke=\"black\"/>\n",
       "<text font-family=\"Times,serif\" font-size=\"14.00\" text-anchor=\"middle\" x=\"250\" y=\"-8.3\">(None, 1)</text>\n",
       "</g>\n",
       "<!-- 140678568661064&#45;&gt;140678568631936 -->\n",
       "<g class=\"edge\" id=\"edge7\"><title>140678568661064-&gt;140678568631936</title>\n",
       "<path d=\"M188.5,-83.3664C188.5,-75.1516 188.5,-65.6579 188.5,-56.7252\" fill=\"none\" stroke=\"black\"/>\n",
       "<polygon fill=\"black\" points=\"192,-56.6068 188.5,-46.6068 185,-56.6069 192,-56.6068\" stroke=\"black\"/>\n",
       "</g>\n",
       "</g>\n",
       "</svg>"
      ],
      "text/plain": [
       "<IPython.core.display.SVG object>"
      ]
     },
     "execution_count": 6,
     "metadata": {},
     "output_type": "execute_result"
    }
   ],
   "source": [
    "SVG(model_to_dot(model, show_shapes=True).create(prog='dot', format='svg'))"
   ]
  },
  {
   "cell_type": "code",
   "execution_count": 7,
   "metadata": {},
   "outputs": [],
   "source": [
    "plot_model(model, to_file='VDSR.png')"
   ]
  },
  {
   "cell_type": "code",
   "execution_count": null,
   "metadata": {},
   "outputs": [],
   "source": []
  }
 ],
 "metadata": {
  "kernelspec": {
   "display_name": "Python 3",
   "language": "python",
   "name": "python3"
  },
  "language_info": {
   "codemirror_mode": {
    "name": "ipython",
    "version": 3
   },
   "file_extension": ".py",
   "mimetype": "text/x-python",
   "name": "python",
   "nbconvert_exporter": "python",
   "pygments_lexer": "ipython3",
   "version": "3.5.2"
  }
 },
 "nbformat": 4,
 "nbformat_minor": 2
}
