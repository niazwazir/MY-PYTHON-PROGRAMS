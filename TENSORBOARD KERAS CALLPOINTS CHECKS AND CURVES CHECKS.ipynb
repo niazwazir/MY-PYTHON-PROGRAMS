{
 "cells": [
  {
   "cell_type": "code",
   "execution_count": 1,
   "metadata": {},
   "outputs": [
    {
     "name": "stderr",
     "output_type": "stream",
     "text": [
      "Using TensorFlow backend.\n"
     ]
    }
   ],
   "source": [
    "import os\n",
    "import tensorflow as tf\n",
    "from IPython.display import SVG\n",
    "from keras.utils.vis_utils import model_to_dot\n",
    "from keras.utils import plot_model\n",
    "import keras\n",
    "from keras.models import Sequential\n",
    "from keras.layers import Dense, Activation, Dropout\n",
    "from keras.callbacks import Callback, TensorBoard, ModelCheckpoint"
   ]
  },
  {
   "cell_type": "code",
   "execution_count": 2,
   "metadata": {},
   "outputs": [
    {
     "name": "stdout",
     "output_type": "stream",
     "text": [
      "Extracting /tmp/data/train-images-idx3-ubyte.gz\n",
      "Extracting /tmp/data/train-labels-idx1-ubyte.gz\n",
      "Extracting /tmp/data/t10k-images-idx3-ubyte.gz\n",
      "Extracting /tmp/data/t10k-labels-idx1-ubyte.gz\n"
     ]
    }
   ],
   "source": [
    "from tensorflow.examples.tutorials.mnist import input_data\n",
    "mnist = input_data.read_data_sets('/tmp/data', one_hot=True)"
   ]
  },
  {
   "cell_type": "code",
   "execution_count": 3,
   "metadata": {},
   "outputs": [],
   "source": [
    "#LOGDIR = './graphs'\n",
    "NAME = \"WAZIR_MODEL_SCALE_3\"\n",
    "# Hyperparameters\n",
    "LEARNING_RATE = 0.01\n",
    "BATCH_SIZE = 1000\n",
    "EPOCHS = 10\n",
    "# Layers\n",
    "HL_1 = 1000\n",
    "HL_2 = 500\n",
    "# Other Parameters\n",
    "INPUT_SIZE = 28*28\n",
    "N_CLASSES = 10"
   ]
  },
  {
   "cell_type": "code",
   "execution_count": 4,
   "metadata": {},
   "outputs": [],
   "source": [
    "model = Sequential()\n",
    "model.add(Dense(1000, input_dim=INPUT_SIZE))\n",
    "model.add(Activation(\"relu\"))\n",
    "model.add(Dense(500))\n",
    "model.add(Activation(\"relu\"))\n",
    "model.add(Dropout(rate=0.9))\n",
    "model.add(Dense(10, activation=\"softmax\"))"
   ]
  },
  {
   "cell_type": "code",
   "execution_count": 5,
   "metadata": {},
   "outputs": [],
   "source": [
    "model.compile(\n",
    "    optimizer=\"Adam\",\n",
    "    loss=\"categorical_crossentropy\",\n",
    "    metrics=['accuracy'])"
   ]
  },
  {
   "cell_type": "code",
   "execution_count": 6,
   "metadata": {},
   "outputs": [
    {
     "name": "stdout",
     "output_type": "stream",
     "text": [
      "_________________________________________________________________\n",
      "Layer (type)                 Output Shape              Param #   \n",
      "=================================================================\n",
      "dense_1 (Dense)              (None, 1000)              785000    \n",
      "_________________________________________________________________\n",
      "activation_1 (Activation)    (None, 1000)              0         \n",
      "_________________________________________________________________\n",
      "dense_2 (Dense)              (None, 500)               500500    \n",
      "_________________________________________________________________\n",
      "activation_2 (Activation)    (None, 500)               0         \n",
      "_________________________________________________________________\n",
      "dropout_1 (Dropout)          (None, 500)               0         \n",
      "_________________________________________________________________\n",
      "dense_3 (Dense)              (None, 10)                5010      \n",
      "=================================================================\n",
      "Total params: 1,290,510\n",
      "Trainable params: 1,290,510\n",
      "Non-trainable params: 0\n",
      "_________________________________________________________________\n"
     ]
    }
   ],
   "source": [
    "model.summary()"
   ]
  },
  {
   "cell_type": "code",
   "execution_count": 7,
   "metadata": {},
   "outputs": [
    {
     "data": {
      "image/svg+xml": [
       "<svg height=\"543pt\" viewBox=\"0.00 0.00 300.00 543.00\" width=\"300pt\" xmlns=\"http://www.w3.org/2000/svg\" xmlns:xlink=\"http://www.w3.org/1999/xlink\">\n",
       "<g class=\"graph\" id=\"graph0\" transform=\"scale(1 1) rotate(0) translate(4 539)\">\n",
       "<title>G</title>\n",
       "<polygon fill=\"white\" points=\"-4,4 -4,-539 296,-539 296,4 -4,4\" stroke=\"none\"/>\n",
       "<!-- 140280950462672 -->\n",
       "<g class=\"node\" id=\"node1\"><title>140280950462672</title>\n",
       "<polygon fill=\"none\" points=\"23,-415.5 23,-461.5 269,-461.5 269,-415.5 23,-415.5\" stroke=\"black\"/>\n",
       "<text font-family=\"Times,serif\" font-size=\"14.00\" text-anchor=\"middle\" x=\"74\" y=\"-434.8\">dense_1: Dense</text>\n",
       "<polyline fill=\"none\" points=\"125,-415.5 125,-461.5 \" stroke=\"black\"/>\n",
       "<text font-family=\"Times,serif\" font-size=\"14.00\" text-anchor=\"middle\" x=\"152.5\" y=\"-446.3\">input:</text>\n",
       "<polyline fill=\"none\" points=\"125,-438.5 180,-438.5 \" stroke=\"black\"/>\n",
       "<text font-family=\"Times,serif\" font-size=\"14.00\" text-anchor=\"middle\" x=\"152.5\" y=\"-423.3\">output:</text>\n",
       "<polyline fill=\"none\" points=\"180,-415.5 180,-461.5 \" stroke=\"black\"/>\n",
       "<text font-family=\"Times,serif\" font-size=\"14.00\" text-anchor=\"middle\" x=\"224.5\" y=\"-446.3\">(None, 784)</text>\n",
       "<polyline fill=\"none\" points=\"180,-438.5 269,-438.5 \" stroke=\"black\"/>\n",
       "<text font-family=\"Times,serif\" font-size=\"14.00\" text-anchor=\"middle\" x=\"224.5\" y=\"-423.3\">(None, 1000)</text>\n",
       "</g>\n",
       "<!-- 140280950462840 -->\n",
       "<g class=\"node\" id=\"node2\"><title>140280950462840</title>\n",
       "<polygon fill=\"none\" points=\"0,-332.5 0,-378.5 292,-378.5 292,-332.5 0,-332.5\" stroke=\"black\"/>\n",
       "<text font-family=\"Times,serif\" font-size=\"14.00\" text-anchor=\"middle\" x=\"74\" y=\"-351.8\">activation_1: Activation</text>\n",
       "<polyline fill=\"none\" points=\"148,-332.5 148,-378.5 \" stroke=\"black\"/>\n",
       "<text font-family=\"Times,serif\" font-size=\"14.00\" text-anchor=\"middle\" x=\"175.5\" y=\"-363.3\">input:</text>\n",
       "<polyline fill=\"none\" points=\"148,-355.5 203,-355.5 \" stroke=\"black\"/>\n",
       "<text font-family=\"Times,serif\" font-size=\"14.00\" text-anchor=\"middle\" x=\"175.5\" y=\"-340.3\">output:</text>\n",
       "<polyline fill=\"none\" points=\"203,-332.5 203,-378.5 \" stroke=\"black\"/>\n",
       "<text font-family=\"Times,serif\" font-size=\"14.00\" text-anchor=\"middle\" x=\"247.5\" y=\"-363.3\">(None, 1000)</text>\n",
       "<polyline fill=\"none\" points=\"203,-355.5 292,-355.5 \" stroke=\"black\"/>\n",
       "<text font-family=\"Times,serif\" font-size=\"14.00\" text-anchor=\"middle\" x=\"247.5\" y=\"-340.3\">(None, 1000)</text>\n",
       "</g>\n",
       "<!-- 140280950462672&#45;&gt;140280950462840 -->\n",
       "<g class=\"edge\" id=\"edge2\"><title>140280950462672-&gt;140280950462840</title>\n",
       "<path d=\"M146,-415.366C146,-407.152 146,-397.658 146,-388.725\" fill=\"none\" stroke=\"black\"/>\n",
       "<polygon fill=\"black\" points=\"149.5,-388.607 146,-378.607 142.5,-388.607 149.5,-388.607\" stroke=\"black\"/>\n",
       "</g>\n",
       "<!-- 140280950463456 -->\n",
       "<g class=\"node\" id=\"node3\"><title>140280950463456</title>\n",
       "<polygon fill=\"none\" points=\"23,-249.5 23,-295.5 269,-295.5 269,-249.5 23,-249.5\" stroke=\"black\"/>\n",
       "<text font-family=\"Times,serif\" font-size=\"14.00\" text-anchor=\"middle\" x=\"74\" y=\"-268.8\">dense_2: Dense</text>\n",
       "<polyline fill=\"none\" points=\"125,-249.5 125,-295.5 \" stroke=\"black\"/>\n",
       "<text font-family=\"Times,serif\" font-size=\"14.00\" text-anchor=\"middle\" x=\"152.5\" y=\"-280.3\">input:</text>\n",
       "<polyline fill=\"none\" points=\"125,-272.5 180,-272.5 \" stroke=\"black\"/>\n",
       "<text font-family=\"Times,serif\" font-size=\"14.00\" text-anchor=\"middle\" x=\"152.5\" y=\"-257.3\">output:</text>\n",
       "<polyline fill=\"none\" points=\"180,-249.5 180,-295.5 \" stroke=\"black\"/>\n",
       "<text font-family=\"Times,serif\" font-size=\"14.00\" text-anchor=\"middle\" x=\"224.5\" y=\"-280.3\">(None, 1000)</text>\n",
       "<polyline fill=\"none\" points=\"180,-272.5 269,-272.5 \" stroke=\"black\"/>\n",
       "<text font-family=\"Times,serif\" font-size=\"14.00\" text-anchor=\"middle\" x=\"224.5\" y=\"-257.3\">(None, 500)</text>\n",
       "</g>\n",
       "<!-- 140280950462840&#45;&gt;140280950463456 -->\n",
       "<g class=\"edge\" id=\"edge3\"><title>140280950462840-&gt;140280950463456</title>\n",
       "<path d=\"M146,-332.366C146,-324.152 146,-314.658 146,-305.725\" fill=\"none\" stroke=\"black\"/>\n",
       "<polygon fill=\"black\" points=\"149.5,-305.607 146,-295.607 142.5,-305.607 149.5,-305.607\" stroke=\"black\"/>\n",
       "</g>\n",
       "<!-- 140280950576800 -->\n",
       "<g class=\"node\" id=\"node4\"><title>140280950576800</title>\n",
       "<polygon fill=\"none\" points=\"3,-166.5 3,-212.5 289,-212.5 289,-166.5 3,-166.5\" stroke=\"black\"/>\n",
       "<text font-family=\"Times,serif\" font-size=\"14.00\" text-anchor=\"middle\" x=\"77\" y=\"-185.8\">activation_2: Activation</text>\n",
       "<polyline fill=\"none\" points=\"151,-166.5 151,-212.5 \" stroke=\"black\"/>\n",
       "<text font-family=\"Times,serif\" font-size=\"14.00\" text-anchor=\"middle\" x=\"178.5\" y=\"-197.3\">input:</text>\n",
       "<polyline fill=\"none\" points=\"151,-189.5 206,-189.5 \" stroke=\"black\"/>\n",
       "<text font-family=\"Times,serif\" font-size=\"14.00\" text-anchor=\"middle\" x=\"178.5\" y=\"-174.3\">output:</text>\n",
       "<polyline fill=\"none\" points=\"206,-166.5 206,-212.5 \" stroke=\"black\"/>\n",
       "<text font-family=\"Times,serif\" font-size=\"14.00\" text-anchor=\"middle\" x=\"247.5\" y=\"-197.3\">(None, 500)</text>\n",
       "<polyline fill=\"none\" points=\"206,-189.5 289,-189.5 \" stroke=\"black\"/>\n",
       "<text font-family=\"Times,serif\" font-size=\"14.00\" text-anchor=\"middle\" x=\"247.5\" y=\"-174.3\">(None, 500)</text>\n",
       "</g>\n",
       "<!-- 140280950463456&#45;&gt;140280950576800 -->\n",
       "<g class=\"edge\" id=\"edge4\"><title>140280950463456-&gt;140280950576800</title>\n",
       "<path d=\"M146,-249.366C146,-241.152 146,-231.658 146,-222.725\" fill=\"none\" stroke=\"black\"/>\n",
       "<polygon fill=\"black\" points=\"149.5,-222.607 146,-212.607 142.5,-222.607 149.5,-222.607\" stroke=\"black\"/>\n",
       "</g>\n",
       "<!-- 140280950178872 -->\n",
       "<g class=\"node\" id=\"node5\"><title>140280950178872</title>\n",
       "<polygon fill=\"none\" points=\"14.5,-83.5 14.5,-129.5 277.5,-129.5 277.5,-83.5 14.5,-83.5\" stroke=\"black\"/>\n",
       "<text font-family=\"Times,serif\" font-size=\"14.00\" text-anchor=\"middle\" x=\"77\" y=\"-102.8\">dropout_1: Dropout</text>\n",
       "<polyline fill=\"none\" points=\"139.5,-83.5 139.5,-129.5 \" stroke=\"black\"/>\n",
       "<text font-family=\"Times,serif\" font-size=\"14.00\" text-anchor=\"middle\" x=\"167\" y=\"-114.3\">input:</text>\n",
       "<polyline fill=\"none\" points=\"139.5,-106.5 194.5,-106.5 \" stroke=\"black\"/>\n",
       "<text font-family=\"Times,serif\" font-size=\"14.00\" text-anchor=\"middle\" x=\"167\" y=\"-91.3\">output:</text>\n",
       "<polyline fill=\"none\" points=\"194.5,-83.5 194.5,-129.5 \" stroke=\"black\"/>\n",
       "<text font-family=\"Times,serif\" font-size=\"14.00\" text-anchor=\"middle\" x=\"236\" y=\"-114.3\">(None, 500)</text>\n",
       "<polyline fill=\"none\" points=\"194.5,-106.5 277.5,-106.5 \" stroke=\"black\"/>\n",
       "<text font-family=\"Times,serif\" font-size=\"14.00\" text-anchor=\"middle\" x=\"236\" y=\"-91.3\">(None, 500)</text>\n",
       "</g>\n",
       "<!-- 140280950576800&#45;&gt;140280950178872 -->\n",
       "<g class=\"edge\" id=\"edge5\"><title>140280950576800-&gt;140280950178872</title>\n",
       "<path d=\"M146,-166.366C146,-158.152 146,-148.658 146,-139.725\" fill=\"none\" stroke=\"black\"/>\n",
       "<polygon fill=\"black\" points=\"149.5,-139.607 146,-129.607 142.5,-139.607 149.5,-139.607\" stroke=\"black\"/>\n",
       "</g>\n",
       "<!-- 140280950462784 -->\n",
       "<g class=\"node\" id=\"node6\"><title>140280950462784</title>\n",
       "<polygon fill=\"none\" points=\"26,-0.5 26,-46.5 266,-46.5 266,-0.5 26,-0.5\" stroke=\"black\"/>\n",
       "<text font-family=\"Times,serif\" font-size=\"14.00\" text-anchor=\"middle\" x=\"77\" y=\"-19.8\">dense_3: Dense</text>\n",
       "<polyline fill=\"none\" points=\"128,-0.5 128,-46.5 \" stroke=\"black\"/>\n",
       "<text font-family=\"Times,serif\" font-size=\"14.00\" text-anchor=\"middle\" x=\"155.5\" y=\"-31.3\">input:</text>\n",
       "<polyline fill=\"none\" points=\"128,-23.5 183,-23.5 \" stroke=\"black\"/>\n",
       "<text font-family=\"Times,serif\" font-size=\"14.00\" text-anchor=\"middle\" x=\"155.5\" y=\"-8.3\">output:</text>\n",
       "<polyline fill=\"none\" points=\"183,-0.5 183,-46.5 \" stroke=\"black\"/>\n",
       "<text font-family=\"Times,serif\" font-size=\"14.00\" text-anchor=\"middle\" x=\"224.5\" y=\"-31.3\">(None, 500)</text>\n",
       "<polyline fill=\"none\" points=\"183,-23.5 266,-23.5 \" stroke=\"black\"/>\n",
       "<text font-family=\"Times,serif\" font-size=\"14.00\" text-anchor=\"middle\" x=\"224.5\" y=\"-8.3\">(None, 10)</text>\n",
       "</g>\n",
       "<!-- 140280950178872&#45;&gt;140280950462784 -->\n",
       "<g class=\"edge\" id=\"edge6\"><title>140280950178872-&gt;140280950462784</title>\n",
       "<path d=\"M146,-83.3664C146,-75.1516 146,-65.6579 146,-56.7252\" fill=\"none\" stroke=\"black\"/>\n",
       "<polygon fill=\"black\" points=\"149.5,-56.6068 146,-46.6068 142.5,-56.6069 149.5,-56.6068\" stroke=\"black\"/>\n",
       "</g>\n",
       "<!-- 140280950463232 -->\n",
       "<g class=\"node\" id=\"node7\"><title>140280950463232</title>\n",
       "<polygon fill=\"none\" points=\"87,-498.5 87,-534.5 205,-534.5 205,-498.5 87,-498.5\" stroke=\"black\"/>\n",
       "<text font-family=\"Times,serif\" font-size=\"14.00\" text-anchor=\"middle\" x=\"146\" y=\"-512.8\">140280950463232</text>\n",
       "</g>\n",
       "<!-- 140280950463232&#45;&gt;140280950462672 -->\n",
       "<g class=\"edge\" id=\"edge1\"><title>140280950463232-&gt;140280950462672</title>\n",
       "<path d=\"M146,-498.254C146,-490.363 146,-480.749 146,-471.602\" fill=\"none\" stroke=\"black\"/>\n",
       "<polygon fill=\"black\" points=\"149.5,-471.591 146,-461.591 142.5,-471.591 149.5,-471.591\" stroke=\"black\"/>\n",
       "</g>\n",
       "</g>\n",
       "</svg>"
      ],
      "text/plain": [
       "<IPython.core.display.SVG object>"
      ]
     },
     "execution_count": 7,
     "metadata": {},
     "output_type": "execute_result"
    }
   ],
   "source": [
    "SVG(model_to_dot(model, show_shapes=True).create(prog='dot', format='svg'))"
   ]
  },
  {
   "cell_type": "code",
   "execution_count": 10,
   "metadata": {},
   "outputs": [
    {
     "name": "stdout",
     "output_type": "stream",
     "text": [
      "Epoch 1/10\n",
      "55000/55000 [==============================] - 21s 376us/step - loss: 0.0372 - acc: 0.9890\n",
      "Epoch 2/10\n",
      "55000/55000 [==============================] - 19s 348us/step - loss: 0.0338 - acc: 0.9905\n",
      "Epoch 3/10\n",
      "55000/55000 [==============================] - 20s 355us/step - loss: 0.0309 - acc: 0.9915\n",
      "Epoch 4/10\n",
      "55000/55000 [==============================] - 22s 393us/step - loss: 0.0261 - acc: 0.9922\n",
      "Epoch 5/10\n",
      "55000/55000 [==============================] - 21s 380us/step - loss: 0.0256 - acc: 0.9925\n",
      "Epoch 6/10\n",
      "55000/55000 [==============================] - 30s 553us/step - loss: 0.0219 - acc: 0.9937\n",
      "Epoch 7/10\n",
      "55000/55000 [==============================] - 23s 411us/step - loss: 0.0198 - acc: 0.9944\n",
      "Epoch 8/10\n",
      "55000/55000 [==============================] - 27s 487us/step - loss: 0.0174 - acc: 0.9948\n",
      "Epoch 9/10\n",
      "55000/55000 [==============================] - 20s 357us/step - loss: 0.0166 - acc: 0.9954\n",
      "Epoch 10/10\n",
      "55000/55000 [==============================] - 20s 361us/step - loss: 0.0145 - acc: 0.9957\n"
     ]
    }
   ],
   "source": [
    "cb = TensorBoard(log_dir=\"logs/{}\".format(NAME))\n",
    "\n",
    "history_callback = model.fit(\n",
    "    x=mnist.train.images,\n",
    "    y=mnist.train.labels,\n",
    "    epochs=EPOCHS,\n",
    "    batch_size=BATCH_SIZE,\n",
    "    callbacks=[cb])"
   ]
  },
  {
   "cell_type": "markdown",
   "metadata": {},
   "source": [
    "# go terminal type workon wazir \n",
    "tensorboard --logdir='./logs'\n",
    "if not working\n",
    "you can free the tensorboard\n",
    "After killing the process run \n",
    "fuser 6006/tcp -k \n",
    "to free the port 6006 (if you're in linux) and fire tensorboard again.\n",
    "(TO VISUALIZE USE  *, \\w)"
   ]
  },
  {
   "cell_type": "code",
   "execution_count": null,
   "metadata": {},
   "outputs": [],
   "source": []
  }
 ],
 "metadata": {
  "kernelspec": {
   "display_name": "Python 3",
   "language": "python",
   "name": "python3"
  },
  "language_info": {
   "codemirror_mode": {
    "name": "ipython",
    "version": 3
   },
   "file_extension": ".py",
   "mimetype": "text/x-python",
   "name": "python",
   "nbconvert_exporter": "python",
   "pygments_lexer": "ipython3",
   "version": "3.6.5"
  }
 },
 "nbformat": 4,
 "nbformat_minor": 2
}
