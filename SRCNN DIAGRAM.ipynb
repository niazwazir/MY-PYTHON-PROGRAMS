{
 "cells": [
  {
   "cell_type": "code",
   "execution_count": 1,
   "metadata": {},
   "outputs": [
    {
     "name": "stderr",
     "output_type": "stream",
     "text": [
      "/home/savath/.virtualenvs/wazir/lib/python3.5/site-packages/h5py/__init__.py:36: FutureWarning: Conversion of the second argument of issubdtype from `float` to `np.floating` is deprecated. In future, it will be treated as `np.float64 == np.dtype(float).type`.\n",
      "  from ._conv import register_converters as _register_converters\n",
      "Using TensorFlow backend.\n"
     ]
    }
   ],
   "source": [
    "from keras.models import Sequential\n",
    "from keras.layers import Dense, Conv2D, Activation\n",
    "import keras.backend as K\n",
    "from keras import optimizers\n",
    "import numpy as np\n",
    "import h5py\n",
    "from IPython.display import SVG\n",
    "from keras.utils.vis_utils import model_to_dot\n",
    "from keras.utils import plot_model"
   ]
  },
  {
   "cell_type": "code",
   "execution_count": 2,
   "metadata": {},
   "outputs": [
    {
     "name": "stdout",
     "output_type": "stream",
     "text": [
      "_________________________________________________________________\n",
      "Layer (type)                 Output Shape              Param #   \n",
      "=================================================================\n",
      "conv2d_1 (Conv2D)            (None, 32, 32, 64)        5248      \n",
      "_________________________________________________________________\n",
      "conv2d_2 (Conv2D)            (None, 32, 32, 32)        2080      \n",
      "_________________________________________________________________\n",
      "conv2d_3 (Conv2D)            (None, 32, 32, 1)         801       \n",
      "=================================================================\n",
      "Total params: 8,129\n",
      "Trainable params: 8,129\n",
      "Non-trainable params: 0\n",
      "_________________________________________________________________\n"
     ]
    }
   ],
   "source": [
    "model = Sequential([\n",
    "    Conv2D(64, kernel_size=(9,9), input_shape=(32,32,1), activation ='relu',padding='same'),\n",
    "    Conv2D(32, kernel_size=(1,1),activation='relu',padding='same'),\n",
    "    Conv2D(1, kernel_size=(5,5),activation='relu',padding='same'),\n",
    "])\n",
    "model.summary()"
   ]
  },
  {
   "cell_type": "code",
   "execution_count": 3,
   "metadata": {},
   "outputs": [
    {
     "data": {
      "image/svg+xml": [
       "<svg height=\"304pt\" viewBox=\"0.00 0.00 346.00 304.00\" width=\"346pt\" xmlns=\"http://www.w3.org/2000/svg\" xmlns:xlink=\"http://www.w3.org/1999/xlink\">\n",
       "<g class=\"graph\" id=\"graph0\" transform=\"scale(1 1) rotate(0) translate(4 300)\">\n",
       "<title>G</title>\n",
       "<polygon fill=\"white\" points=\"-4,4 -4,-300 342,-300 342,4 -4,4\" stroke=\"none\"/>\n",
       "<!-- 140010142044904 -->\n",
       "<g class=\"node\" id=\"node1\"><title>140010142044904</title>\n",
       "<polygon fill=\"none\" points=\"-2.84217e-14,-249.5 -2.84217e-14,-295.5 338,-295.5 338,-249.5 -2.84217e-14,-249.5\" stroke=\"black\"/>\n",
       "<text font-family=\"Times,serif\" font-size=\"14.00\" text-anchor=\"middle\" x=\"86\" y=\"-268.8\">conv2d_1_input: InputLayer</text>\n",
       "<polyline fill=\"none\" points=\"172,-249.5 172,-295.5 \" stroke=\"black\"/>\n",
       "<text font-family=\"Times,serif\" font-size=\"14.00\" text-anchor=\"middle\" x=\"199.5\" y=\"-280.3\">input:</text>\n",
       "<polyline fill=\"none\" points=\"172,-272.5 227,-272.5 \" stroke=\"black\"/>\n",
       "<text font-family=\"Times,serif\" font-size=\"14.00\" text-anchor=\"middle\" x=\"199.5\" y=\"-257.3\">output:</text>\n",
       "<polyline fill=\"none\" points=\"227,-249.5 227,-295.5 \" stroke=\"black\"/>\n",
       "<text font-family=\"Times,serif\" font-size=\"14.00\" text-anchor=\"middle\" x=\"282.5\" y=\"-280.3\">(None, 32, 32, 1)</text>\n",
       "<polyline fill=\"none\" points=\"227,-272.5 338,-272.5 \" stroke=\"black\"/>\n",
       "<text font-family=\"Times,serif\" font-size=\"14.00\" text-anchor=\"middle\" x=\"282.5\" y=\"-257.3\">(None, 32, 32, 1)</text>\n",
       "</g>\n",
       "<!-- 140010142002536 -->\n",
       "<g class=\"node\" id=\"node2\"><title>140010142002536</title>\n",
       "<polygon fill=\"none\" points=\"21,-166.5 21,-212.5 317,-212.5 317,-166.5 21,-166.5\" stroke=\"black\"/>\n",
       "<text font-family=\"Times,serif\" font-size=\"14.00\" text-anchor=\"middle\" x=\"82.5\" y=\"-185.8\">conv2d_1: Conv2D</text>\n",
       "<polyline fill=\"none\" points=\"144,-166.5 144,-212.5 \" stroke=\"black\"/>\n",
       "<text font-family=\"Times,serif\" font-size=\"14.00\" text-anchor=\"middle\" x=\"171.5\" y=\"-197.3\">input:</text>\n",
       "<polyline fill=\"none\" points=\"144,-189.5 199,-189.5 \" stroke=\"black\"/>\n",
       "<text font-family=\"Times,serif\" font-size=\"14.00\" text-anchor=\"middle\" x=\"171.5\" y=\"-174.3\">output:</text>\n",
       "<polyline fill=\"none\" points=\"199,-166.5 199,-212.5 \" stroke=\"black\"/>\n",
       "<text font-family=\"Times,serif\" font-size=\"14.00\" text-anchor=\"middle\" x=\"258\" y=\"-197.3\">(None, 32, 32, 1)</text>\n",
       "<polyline fill=\"none\" points=\"199,-189.5 317,-189.5 \" stroke=\"black\"/>\n",
       "<text font-family=\"Times,serif\" font-size=\"14.00\" text-anchor=\"middle\" x=\"258\" y=\"-174.3\">(None, 32, 32, 64)</text>\n",
       "</g>\n",
       "<!-- 140010142044904&#45;&gt;140010142002536 -->\n",
       "<g class=\"edge\" id=\"edge1\"><title>140010142044904-&gt;140010142002536</title>\n",
       "<path d=\"M169,-249.366C169,-241.152 169,-231.658 169,-222.725\" fill=\"none\" stroke=\"black\"/>\n",
       "<polygon fill=\"black\" points=\"172.5,-222.607 169,-212.607 165.5,-222.607 172.5,-222.607\" stroke=\"black\"/>\n",
       "</g>\n",
       "<!-- 140010142002928 -->\n",
       "<g class=\"node\" id=\"node3\"><title>140010142002928</title>\n",
       "<polygon fill=\"none\" points=\"21,-83.5 21,-129.5 317,-129.5 317,-83.5 21,-83.5\" stroke=\"black\"/>\n",
       "<text font-family=\"Times,serif\" font-size=\"14.00\" text-anchor=\"middle\" x=\"82.5\" y=\"-102.8\">conv2d_2: Conv2D</text>\n",
       "<polyline fill=\"none\" points=\"144,-83.5 144,-129.5 \" stroke=\"black\"/>\n",
       "<text font-family=\"Times,serif\" font-size=\"14.00\" text-anchor=\"middle\" x=\"171.5\" y=\"-114.3\">input:</text>\n",
       "<polyline fill=\"none\" points=\"144,-106.5 199,-106.5 \" stroke=\"black\"/>\n",
       "<text font-family=\"Times,serif\" font-size=\"14.00\" text-anchor=\"middle\" x=\"171.5\" y=\"-91.3\">output:</text>\n",
       "<polyline fill=\"none\" points=\"199,-83.5 199,-129.5 \" stroke=\"black\"/>\n",
       "<text font-family=\"Times,serif\" font-size=\"14.00\" text-anchor=\"middle\" x=\"258\" y=\"-114.3\">(None, 32, 32, 64)</text>\n",
       "<polyline fill=\"none\" points=\"199,-106.5 317,-106.5 \" stroke=\"black\"/>\n",
       "<text font-family=\"Times,serif\" font-size=\"14.00\" text-anchor=\"middle\" x=\"258\" y=\"-91.3\">(None, 32, 32, 32)</text>\n",
       "</g>\n",
       "<!-- 140010142002536&#45;&gt;140010142002928 -->\n",
       "<g class=\"edge\" id=\"edge2\"><title>140010142002536-&gt;140010142002928</title>\n",
       "<path d=\"M169,-166.366C169,-158.152 169,-148.658 169,-139.725\" fill=\"none\" stroke=\"black\"/>\n",
       "<polygon fill=\"black\" points=\"172.5,-139.607 169,-129.607 165.5,-139.607 172.5,-139.607\" stroke=\"black\"/>\n",
       "</g>\n",
       "<!-- 140010142003040 -->\n",
       "<g class=\"node\" id=\"node4\"><title>140010142003040</title>\n",
       "<polygon fill=\"none\" points=\"21,-0.5 21,-46.5 317,-46.5 317,-0.5 21,-0.5\" stroke=\"black\"/>\n",
       "<text font-family=\"Times,serif\" font-size=\"14.00\" text-anchor=\"middle\" x=\"82.5\" y=\"-19.8\">conv2d_3: Conv2D</text>\n",
       "<polyline fill=\"none\" points=\"144,-0.5 144,-46.5 \" stroke=\"black\"/>\n",
       "<text font-family=\"Times,serif\" font-size=\"14.00\" text-anchor=\"middle\" x=\"171.5\" y=\"-31.3\">input:</text>\n",
       "<polyline fill=\"none\" points=\"144,-23.5 199,-23.5 \" stroke=\"black\"/>\n",
       "<text font-family=\"Times,serif\" font-size=\"14.00\" text-anchor=\"middle\" x=\"171.5\" y=\"-8.3\">output:</text>\n",
       "<polyline fill=\"none\" points=\"199,-0.5 199,-46.5 \" stroke=\"black\"/>\n",
       "<text font-family=\"Times,serif\" font-size=\"14.00\" text-anchor=\"middle\" x=\"258\" y=\"-31.3\">(None, 32, 32, 32)</text>\n",
       "<polyline fill=\"none\" points=\"199,-23.5 317,-23.5 \" stroke=\"black\"/>\n",
       "<text font-family=\"Times,serif\" font-size=\"14.00\" text-anchor=\"middle\" x=\"258\" y=\"-8.3\">(None, 32, 32, 1)</text>\n",
       "</g>\n",
       "<!-- 140010142002928&#45;&gt;140010142003040 -->\n",
       "<g class=\"edge\" id=\"edge3\"><title>140010142002928-&gt;140010142003040</title>\n",
       "<path d=\"M169,-83.3664C169,-75.1516 169,-65.6579 169,-56.7252\" fill=\"none\" stroke=\"black\"/>\n",
       "<polygon fill=\"black\" points=\"172.5,-56.6068 169,-46.6068 165.5,-56.6069 172.5,-56.6068\" stroke=\"black\"/>\n",
       "</g>\n",
       "</g>\n",
       "</svg>"
      ],
      "text/plain": [
       "<IPython.core.display.SVG object>"
      ]
     },
     "execution_count": 3,
     "metadata": {},
     "output_type": "execute_result"
    }
   ],
   "source": [
    "SVG(model_to_dot(model, show_shapes=True).create(prog='dot', format='svg'))"
   ]
  },
  {
   "cell_type": "code",
   "execution_count": 4,
   "metadata": {},
   "outputs": [],
   "source": [
    "plot_model(model, to_file='SRCNN USES 3 LAYERS.png')"
   ]
  },
  {
   "cell_type": "code",
   "execution_count": null,
   "metadata": {},
   "outputs": [],
   "source": []
  }
 ],
 "metadata": {
  "kernelspec": {
   "display_name": "Python 3",
   "language": "python",
   "name": "python3"
  },
  "language_info": {
   "codemirror_mode": {
    "name": "ipython",
    "version": 3
   },
   "file_extension": ".py",
   "mimetype": "text/x-python",
   "name": "python",
   "nbconvert_exporter": "python",
   "pygments_lexer": "ipython3",
   "version": "3.5.2"
  }
 },
 "nbformat": 4,
 "nbformat_minor": 2
}
