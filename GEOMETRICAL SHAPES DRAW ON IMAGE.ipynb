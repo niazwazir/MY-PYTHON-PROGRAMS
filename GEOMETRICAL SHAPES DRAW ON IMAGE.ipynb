{
 "cells": [
  {
   "cell_type": "code",
   "execution_count": null,
   "metadata": {},
   "outputs": [],
   "source": [
    "#HOW TO DRAW THE LINE ON THE IMAGE\n",
    "#FROM SENDEX \n",
    "#Loading Video Source-OpenCV with Python for Image and Video Analysis3\n",
    "import numpy as np\n",
    "import cv2\n",
    "img = cv2.imread('zebra.bmp', cv2.IMREAD_COLOR)\n",
    "#cv2.line(img, (0,0),(150,150),(0,0,0), 15) # IF BLACK (0,0,0) COMPUTER COLOR = RGB AND OPENCV = BGR\n",
    "#cv2.line(img, (0,0),(150,150),(255,0,0), 15) # IF BLUE (255,0,0) COMPUTER COLOR = RGB AND OPENCV = BGR\n",
    "#cv2.line(img, (0,0),(150,150),(0,255,0), 15) # IF BGREEN (0,255,0) COMPUTER COLOR = RGB AND OPENCV = BGR\n",
    "cv2.line(img, (0,0),(150,150),(255,255,255), 15) # IF WHITE (255,255,255) COMPUTER COLOR = RGB AND OPENCV = BGR\n",
    "cv2.imshow('image',img)\n",
    "cv2.waitKey(0)\n",
    "cv2.destroyAllWindows()"
   ]
  },
  {
   "cell_type": "code",
   "execution_count": null,
   "metadata": {},
   "outputs": [],
   "source": [
    "#HOW TO DRAW RECTANGLE LINE ON THE IMAGE\n",
    "#FROM SENDEX \n",
    "#Loading Video Source-OpenCV with Python for Image and Video Analysis3\n",
    "import numpy as np\n",
    "import cv2\n",
    "img = cv2.imread('zebra.bmp', cv2.IMREAD_COLOR)\n",
    "cv2.rectangle(img, (15,25),(200, 150),(0, 255,255), 5) \n",
    "#cv2.rectangle draw on image, top left coordinates 15, 25bottom right coordinates 200, 150\n",
    "#colors \n",
    "cv2.imshow('image',img)\n",
    "cv2.waitKey(0)\n",
    "cv2.destroyAllWindows()"
   ]
  },
  {
   "cell_type": "code",
   "execution_count": null,
   "metadata": {},
   "outputs": [],
   "source": [
    "#HOW TO DRAW CIRCLE ON THE IMAGE\n",
    "#FROM SENDEX \n",
    "#Loading Video Source-OpenCV with Python for Image and Video Analysis3\n",
    "import numpy as np\n",
    "import cv2\n",
    "img = cv2.imread('zebra.bmp', cv2.IMREAD_COLOR)\n",
    "cv2.circle(img, (100,63),55,(0,0,255),-1) \n",
    "#center of circle is 100, 63 and radius is 55, color of circle is (0,0,255), -1 means circle builtin\n",
    "#OR      cv2.circle(img, (100,63),55,(0,0,255),1)          \n",
    "cv2.imshow('image',img)\n",
    "cv2.waitKey(0)\n",
    "cv2.destroyAllWindows()"
   ]
  },
  {
   "cell_type": "code",
   "execution_count": 1,
   "metadata": {},
   "outputs": [],
   "source": [
    "#HOW TO DRAW POLYGON ON THE IMAGE\n",
    "#FROM SENDEX \n",
    "#Loading Video Source-OpenCV with Python for Image and Video Analysis3\n",
    "import numpy as np\n",
    "import cv2\n",
    "img = cv2.imread('zebra.bmp', cv2.IMREAD_COLOR)\n",
    "#Polygons points connect all points close pts is equal to numpy array\n",
    "# a bunch of points like [10,5], other point [20,30] etc and data \n",
    "#type numpy integer 32\n",
    "pts = np.array([[10,5],[20,30],[70,20],[50,10]], np.int32)    \n",
    "#pts = pts.reshape(-1,1,2)\n",
    "cv2.polylines(img, [pts], True, (0,255,255), 3) # True means connect all points\n",
    "#cv2.polylines(img, [pts], False, (0,255,255), 3) # False means not connect first and last point\n",
    "cv2.imshow('image',img)\n",
    "cv2.waitKey(0)\n",
    "cv2.destroyAllWindows()"
   ]
  },
  {
   "cell_type": "code",
   "execution_count": null,
   "metadata": {},
   "outputs": [],
   "source": []
  }
 ],
 "metadata": {
  "kernelspec": {
   "display_name": "Python 3",
   "language": "python",
   "name": "python3"
  },
  "language_info": {
   "codemirror_mode": {
    "name": "ipython",
    "version": 3
   },
   "file_extension": ".py",
   "mimetype": "text/x-python",
   "name": "python",
   "nbconvert_exporter": "python",
   "pygments_lexer": "ipython3",
   "version": "3.5.2"
  }
 },
 "nbformat": 4,
 "nbformat_minor": 2
}
